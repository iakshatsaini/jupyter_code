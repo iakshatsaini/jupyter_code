{
 "cells": [
  {
   "cell_type": "code",
   "execution_count": 3,
   "id": "15de6940",
   "metadata": {},
   "outputs": [],
   "source": [
    "out = [\n",
    "    {\n",
    "        \"active\": 1,\n",
    "        \"categoryName\": [\n",
    "            {\n",
    "                \"boy\": [\n",
    "                    0\n",
    "                ],\n",
    "                \"female\": [\n",
    "                    1\n",
    "                ],\n",
    "                \"girls\": [\n",
    "                    1\n",
    "                ],\n",
    "                \"male\": [\n",
    "                    0\n",
    "                ]\n",
    "            }\n",
    "        ],\n",
    "        \"createdBy\": \"Akshat\",\n",
    "        \"deletedBy\": \"\",\n",
    "        \"deletedDate\": \"\",\n",
    "        \"id\": 31,\n",
    "        \"isDelete\": 0,\n",
    "        \"modelName\": \"Rcn\",\n",
    "        \"model_label_mapping_dict\": {\n",
    "            \"0\": \"man\",\n",
    "            \"1\": \"woman\"\n",
    "        },\n",
    "        \"model_weight_path\": \"dfgd\",\n",
    "        \"model_weight_path_local\": \"fghgd\",\n",
    "        \"projectId\": 664,\n",
    "        \"url\": \"sdfgd\",\n",
    "        \"value\": 13\n",
    "    },{\n",
    "        \"active\": 1,\n",
    "        \"createdBy\": \"Akshat\",\n",
    "        \"deletedBy\": \"\",\n",
    "        \"deletedDate\": \"\",\n",
    "        \"id\": 31,\n",
    "        \"isDelete\": 0,\n",
    "        \"modelName\": \"Rcn\",\n",
    "        \"model_label_mapping_dict\": {\n",
    "            \"0\": \"man\",\n",
    "            \"1\": \"woman\"\n",
    "        },\n",
    "         \"categoryName\": [\n",
    "            {\n",
    "                \"boy\": [\n",
    "                    0\n",
    "                ],\n",
    "                \"female\": [\n",
    "                    1\n",
    "                ],\n",
    "                \"girls\": [\n",
    "                    1\n",
    "                ],\n",
    "                \"male\": [\n",
    "                    0\n",
    "                ],\n",
    "                \"men\": [\n",
    "                    0\n",
    "                ],\n",
    "                \"women\": [\n",
    "                    1\n",
    "                ],\n",
    "            }],\n",
    "        \"model_weight_path\": \"dfgd\",\n",
    "        \"model_weight_path_local\": \"fghgd\",\n",
    "        \"projectId\": 664,\n",
    "        \"url\": \"sdfgd\",\n",
    "        \"value\": 13\n",
    "    }\n",
    "    \n",
    "]"
   ]
  },
  {
   "cell_type": "code",
   "execution_count": 4,
   "id": "724f18a9",
   "metadata": {},
   "outputs": [
    {
     "data": {
      "text/plain": [
       "2"
      ]
     },
     "execution_count": 4,
     "metadata": {},
     "output_type": "execute_result"
    }
   ],
   "source": [
    "len(out)"
   ]
  },
  {
   "cell_type": "code",
   "execution_count": 5,
   "id": "0d1a39ff",
   "metadata": {},
   "outputs": [
    {
     "data": {
      "text/plain": [
       "{'active': 1,\n",
       " 'categoryName': [{'boy': [0], 'female': [1], 'girls': [1], 'male': [0]}],\n",
       " 'createdBy': 'Akshat',\n",
       " 'deletedBy': '',\n",
       " 'deletedDate': '',\n",
       " 'id': 31,\n",
       " 'isDelete': 0,\n",
       " 'modelName': 'Rcn',\n",
       " 'model_label_mapping_dict': {'0': 'man', '1': 'woman'},\n",
       " 'model_weight_path': 'dfgd',\n",
       " 'model_weight_path_local': 'fghgd',\n",
       " 'projectId': 664,\n",
       " 'url': 'sdfgd',\n",
       " 'value': 13}"
      ]
     },
     "execution_count": 5,
     "metadata": {},
     "output_type": "execute_result"
    }
   ],
   "source": [
    "out[0]"
   ]
  },
  {
   "cell_type": "code",
   "execution_count": 6,
   "id": "049e0340",
   "metadata": {},
   "outputs": [
    {
     "data": {
      "text/plain": [
       "{'active': 1,\n",
       " 'createdBy': 'Akshat',\n",
       " 'deletedBy': '',\n",
       " 'deletedDate': '',\n",
       " 'id': 31,\n",
       " 'isDelete': 0,\n",
       " 'modelName': 'Rcn',\n",
       " 'model_label_mapping_dict': {'0': 'man', '1': 'woman'},\n",
       " 'categoryName': [{'boy': [0],\n",
       "   'female': [1],\n",
       "   'girls': [1],\n",
       "   'male': [0],\n",
       "   'men': [0],\n",
       "   'women': [1]}],\n",
       " 'model_weight_path': 'dfgd',\n",
       " 'model_weight_path_local': 'fghgd',\n",
       " 'projectId': 664,\n",
       " 'url': 'sdfgd',\n",
       " 'value': 13}"
      ]
     },
     "execution_count": 6,
     "metadata": {},
     "output_type": "execute_result"
    }
   ],
   "source": [
    "out[1]"
   ]
  },
  {
   "cell_type": "code",
   "execution_count": 7,
   "id": "26449805",
   "metadata": {
    "scrolled": true
   },
   "outputs": [
    {
     "ename": "SyntaxError",
     "evalue": "invalid syntax (2535220838.py, line 5)",
     "output_type": "error",
     "traceback": [
      "\u001b[1;36m  Input \u001b[1;32mIn [7]\u001b[1;36m\u001b[0m\n\u001b[1;33m    for j in (range(len(out[0][\"categoryName\"][0])):\u001b[0m\n\u001b[1;37m                                                   ^\u001b[0m\n\u001b[1;31mSyntaxError\u001b[0m\u001b[1;31m:\u001b[0m invalid syntax\n"
     ]
    }
   ],
   "source": [
    "# dct ={}\n",
    "# for i in range(len(out)):\n",
    "#     for k,v in out[0][\"categoryName\"][0].items():\n",
    "        \n",
    "#         for j in (range(len(out[0][\"categoryName\"][0])):\n",
    "# #           val_list = list(out[0][\"categoryName\"][0].values())\n",
    "# #           if val_list[j] \n",
    "# #     print (out[i][\"categoryName\"][0].items())        \n",
    "# #         print(v)\n",
    "# #         break\n",
    "# #         if v[0] in dct.keys():\n",
    "# #             dct[v[0]].append(k)\n",
    "# #         else:\n",
    "# #             dct[v[0]]=[k]\n",
    "# #     out[i][\"reversecategoryName\"] = dct\n",
    "# dct"
   ]
  },
  {
   "cell_type": "code",
   "execution_count": null,
   "id": "9b9152b3",
   "metadata": {},
   "outputs": [],
   "source": [
    "print(list(out[0][\"categoryName\"][0].values()))\n"
   ]
  },
  {
   "cell_type": "code",
   "execution_count": 11,
   "id": "9115793a",
   "metadata": {},
   "outputs": [
    {
     "ename": "IndexError",
     "evalue": "list index out of range",
     "output_type": "error",
     "traceback": [
      "\u001b[1;31m---------------------------------------------------------------------------\u001b[0m",
      "\u001b[1;31mIndexError\u001b[0m                                Traceback (most recent call last)",
      "Input \u001b[1;32mIn [11]\u001b[0m, in \u001b[0;36m<cell line: 3>\u001b[1;34m()\u001b[0m\n\u001b[0;32m      2\u001b[0m dct \u001b[38;5;241m=\u001b[39m {}\n\u001b[0;32m      3\u001b[0m \u001b[38;5;28;01mfor\u001b[39;00m i \u001b[38;5;129;01min\u001b[39;00m \u001b[38;5;28mrange\u001b[39m(\u001b[38;5;28mlen\u001b[39m(data)):   \n\u001b[0;32m      4\u001b[0m \u001b[38;5;66;03m#     for j in (range(len(out[0][\"categoryName\"][0])):\u001b[39;00m\n\u001b[1;32m----> 5\u001b[0m     \u001b[38;5;28;01mfor\u001b[39;00m k,v \u001b[38;5;129;01min\u001b[39;00m \u001b[43mout\u001b[49m\u001b[43m[\u001b[49m\u001b[43mi\u001b[49m\u001b[43m]\u001b[49m[\u001b[38;5;124m\"\u001b[39m\u001b[38;5;124mcategoryName\u001b[39m\u001b[38;5;124m\"\u001b[39m][\u001b[38;5;241m0\u001b[39m]\u001b[38;5;241m.\u001b[39mitems():\n\u001b[0;32m      6\u001b[0m         \u001b[38;5;28;01mif\u001b[39;00m v[\u001b[38;5;241m0\u001b[39m] \u001b[38;5;129;01min\u001b[39;00m dct\u001b[38;5;241m.\u001b[39mkeys():\n\u001b[0;32m      7\u001b[0m             dct[v[\u001b[38;5;241m0\u001b[39m]]\u001b[38;5;241m.\u001b[39mappend(k)\n",
      "\u001b[1;31mIndexError\u001b[0m: list index out of range"
     ]
    }
   ],
   "source": [
    "data = out[0][\"categoryName\"][0].items()\n",
    "dct = {}\n",
    "for i in range(len(data)):   \n",
    "#     for j in (range(len(out[0][\"categoryName\"][0])):\n",
    "    for k,v in out[i][\"categoryName\"][0].items():\n",
    "        if v[0] in dct.keys():\n",
    "            dct[v[0]].append(k)\n",
    "        else:\n",
    "            dct[v[0]]=[k]\n",
    "    out[0][\"reversecategoryName\"] = dct\n",
    "dct"
   ]
  },
  {
   "cell_type": "code",
   "execution_count": null,
   "id": "a00cac56",
   "metadata": {},
   "outputs": [],
   "source": []
  },
  {
   "cell_type": "code",
   "execution_count": null,
   "id": "b7b60ea0",
   "metadata": {},
   "outputs": [],
   "source": []
  }
 ],
 "metadata": {
  "kernelspec": {
   "display_name": "Python 3 (ipykernel)",
   "language": "python",
   "name": "python3"
  },
  "language_info": {
   "codemirror_mode": {
    "name": "ipython",
    "version": 3
   },
   "file_extension": ".py",
   "mimetype": "text/x-python",
   "name": "python",
   "nbconvert_exporter": "python",
   "pygments_lexer": "ipython3",
   "version": "3.9.12"
  }
 },
 "nbformat": 4,
 "nbformat_minor": 5
}
