{
 "cells": [
  {
   "cell_type": "code",
   "execution_count": 1,
   "id": "2cd4b08b",
   "metadata": {},
   "outputs": [],
   "source": [
    "# if 3.14:\n",
    "#     print(\"yes\")\n",
    "    \n",
    "if 0:\n",
    "    print(\"yes\")"
   ]
  },
  {
   "cell_type": "code",
   "execution_count": 2,
   "id": "2f56670c",
   "metadata": {},
   "outputs": [
    {
     "name": "stdout",
     "output_type": "stream",
     "text": [
      "None\n"
     ]
    }
   ],
   "source": [
    "mylist = [1,2,3]\n",
    "m = mylist.append(4)\n",
    "print(m)"
   ]
  },
  {
   "cell_type": "code",
   "execution_count": 3,
   "id": "1e7432f6",
   "metadata": {},
   "outputs": [
    {
     "name": "stdout",
     "output_type": "stream",
     "text": [
      "<class 'dict'>\n"
     ]
    }
   ],
   "source": [
    "rd = {}\n",
    "print(type(rd))"
   ]
  },
  {
   "cell_type": "code",
   "execution_count": 4,
   "id": "06f5395a",
   "metadata": {},
   "outputs": [
    {
     "name": "stdout",
     "output_type": "stream",
     "text": [
      "<class 'tuple'>\n"
     ]
    }
   ],
   "source": [
    "a = ()\n",
    "print(type(a))"
   ]
  },
  {
   "cell_type": "code",
   "execution_count": 5,
   "id": "8da7630b",
   "metadata": {},
   "outputs": [
    {
     "name": "stdout",
     "output_type": "stream",
     "text": [
      "<class 'set'>\n"
     ]
    }
   ],
   "source": [
    "b = set()\n",
    "print(type(b))"
   ]
  },
  {
   "cell_type": "code",
   "execution_count": 6,
   "id": "b3439ad1",
   "metadata": {},
   "outputs": [
    {
     "name": "stdout",
     "output_type": "stream",
     "text": [
      "name is herry\n",
      "salary is 100000\n",
      "id is 58\n"
     ]
    }
   ],
   "source": [
    "class Employee():\n",
    "    company = \"Google\"\n",
    "    def __init__(self, name, salary, id):\n",
    "        self.name = name\n",
    "        self.salary = salary\n",
    "        self.id = id\n",
    "    def getdetails(self):\n",
    "        print(f\"name is {self.name}\")\n",
    "        print(f\"salary is {self.salary}\")   \n",
    "        print(f\"id is {self.id}\")\n",
    "        \n",
    "    def getSalary(self, signature):\n",
    "        print(f\"Salary for this employee working in {self.company} is {self.salary}\\n{signature}\")\n",
    "\n",
    "    @staticmethod\n",
    "    def greet():\n",
    "        print(\"Good Morning, Sir\")\n",
    "\n",
    "    @staticmethod\n",
    "    def time():\n",
    "        print(\"The time is 9AM in the morning\")\n",
    "\n",
    "ha = Employee(\"herry\",100000,58)\n",
    "ha.getdetails()"
   ]
  },
  {
   "cell_type": "code",
   "execution_count": 7,
   "id": "24d95dce",
   "metadata": {},
   "outputs": [
    {
     "name": "stdout",
     "output_type": "stream",
     "text": [
      "[['mon', 3], ['sun', 2], ['thu', 1], ['fri', 1], ['wed', 1], ['tue', 1]]\n"
     ]
    }
   ],
   "source": [
    "weekdays = ['sun','mon','tue','wed','thu','fri','sun','mon','mon']\n",
    "print([[x,weekdays.count(x)] for x in set(weekdays)])"
   ]
  },
  {
   "cell_type": "code",
   "execution_count": 8,
   "id": "c6db6e37",
   "metadata": {},
   "outputs": [
    {
     "name": "stdout",
     "output_type": "stream",
     "text": [
      "0 Python\n",
      "1 Interview\n",
      "2 Questions\n",
      "3 hello\n",
      "4 be\n",
      "5 ccc\n"
     ]
    }
   ],
   "source": [
    "subjects = ('Python', 'Interview', 'Questions',\"hello\",\"be\",\"ccc\")\n",
    "for i, subject in enumerate(subjects):\n",
    "    print(i, subject)"
   ]
  },
  {
   "cell_type": "code",
   "execution_count": 9,
   "id": "ce64aac9",
   "metadata": {},
   "outputs": [
    {
     "name": "stdout",
     "output_type": "stream",
     "text": [
      "0 name\n",
      "1 class\n",
      "2 roll no\n"
     ]
    }
   ],
   "source": [
    "user = {'name':'Raju',\"class\":\"b.tech\",'roll no':'15'}\n",
    "for i, user in enumerate(user):\n",
    "    print(i,user)"
   ]
  },
  {
   "cell_type": "code",
   "execution_count": 10,
   "id": "ae5f556d",
   "metadata": {},
   "outputs": [
    {
     "name": "stdout",
     "output_type": "stream",
     "text": [
      "0 Python\n",
      "1 Interview\n",
      "2 Questions\n",
      "3 hello\n",
      "4 be\n",
      "5 ccc\n"
     ]
    }
   ],
   "source": [
    "a = ['Python', 'Interview', 'Questions',\"hello\",\"be\",\"ccc\"]\n",
    "for i, a in enumerate(a):\n",
    "    print(i, a)"
   ]
  },
  {
   "cell_type": "code",
   "execution_count": 11,
   "id": "31439c6a",
   "metadata": {
    "scrolled": true
   },
   "outputs": [
    {
     "name": "stdout",
     "output_type": "stream",
     "text": [
      "789\n",
      "[{'datasetMasterId': 789, 'projectId': 511, 'categoryId': ObjectId('61cda1b64059b7ea471fec1f'), 'categoryName': 'vehicleColor', 'attributeId': ObjectId('61cda20d4059b7ea471fec23'), 'attributeName': 'white', 'count': 5}, {'datasetMasterId': 789, 'projectId': 511, 'categoryId': ObjectId('61cda1b64059b7ea471fec1f'), 'categoryName': 'vehicleColor', 'attributeId': ObjectId('61cda1bd4059b7ea471fec21'), 'attributeName': 'Black', 'count': 2}, {'datasetMasterId': 789, 'projectId': 511, 'categoryId': ObjectId('61cd9e8e4059b7ea471fec19'), 'categoryName': 'mobilebrand', 'attributeId': ObjectId('61cd9e954059b7ea471fec1b'), 'attributeName': 'iphone', 'count': 1}]\n"
     ]
    }
   ],
   "source": [
    "from bson import ObjectId\n",
    "out = []\n",
    "\n",
    "statistic_count = [{'count': 5, 'datasetMasterId': 789, 'projectId': 511, 'categoryId': ObjectId('61cda1b64059b7ea471fec1f'), 'attributeId': ObjectId('61cda20d4059b7ea471fec23'), 'attributeName': 'white', 'categoryName': 'vehicleColor'},\n",
    "{'count': 2, 'datasetMasterId': 789, 'projectId': 511, 'categoryId': ObjectId( '61cda1b64059b7ea471fec1f'), 'attributeId': ObjectId('61cda1bd4059b7ea471fec21'), 'attributeName': 'Black', 'categoryName': 'vehicleColor'},\n",
    "{'count': 1, 'datasetMasterId': 789, 'projectId': 511, 'categoryId': ObjectId('61cd9e8e4059b7ea471fec19'), 'attributeId': ObjectId('61cd9e954059b7ea471fec1b'), 'attributeName': 'iphone', 'categoryName': 'mobilebrand'}]\n",
    "\n",
    "print(statistic_count[0]['datasetMasterId'])\n",
    "\n",
    "for count in statistic_count:\n",
    "    \n",
    "    data = {}\n",
    "    data['datasetMasterId'] = count['datasetMasterId']\n",
    "    data['projectId'] = count['projectId']\n",
    "    data['categoryId'] = count['categoryId']\n",
    "    data['categoryName'] = count['categoryName']\n",
    "    data['attributeId'] = count['attributeId']\n",
    "    data['attributeName'] = count['attributeName']\n",
    "    data['count'] = count['count']\n",
    "    out.append(data)\n",
    "print(out)"
   ]
  },
  {
   "cell_type": "code",
   "execution_count": 12,
   "id": "33e4b9f9",
   "metadata": {},
   "outputs": [],
   "source": [
    "li1 = [10, 15, 20, 25, 30, 35, 40]\n",
    "li2 = [25, 40, 35, 68]"
   ]
  },
  {
   "cell_type": "code",
   "execution_count": 13,
   "id": "8982486e",
   "metadata": {},
   "outputs": [],
   "source": [
    "temp = []"
   ]
  },
  {
   "cell_type": "code",
   "execution_count": 14,
   "id": "667611f8",
   "metadata": {
    "scrolled": true
   },
   "outputs": [
    {
     "name": "stdout",
     "output_type": "stream",
     "text": [
      "[10, 15, 20, 30, 68]\n"
     ]
    }
   ],
   "source": [
    "for i in li1 + li2:\n",
    "    if i not in li1 or i not in li2:\n",
    "#         print(i)\n",
    "        temp.append(i)\n",
    "print(temp)"
   ]
  },
  {
   "cell_type": "code",
   "execution_count": 15,
   "id": "2671a16a",
   "metadata": {
    "scrolled": true
   },
   "outputs": [
    {
     "name": "stdout",
     "output_type": "stream",
     "text": [
      "[10, 15, 20, 30, 68]\n"
     ]
    }
   ],
   "source": [
    "# Python code t get difference of two lists\n",
    "# Not using set()\n",
    "def Diff(li1, li2):\n",
    "    li_dif = [i for i in li1 + li2 if i not in li1 or i not in li2]\n",
    "    return li_dif\n",
    "\n",
    "# Driver Code\n",
    "li1 = [10, 15, 20, 25, 30, 35, 40]\n",
    "li2 = [25, 40, 35,68]\n",
    "li3 = Diff(li1, li2)\n",
    "print(li3)\n"
   ]
  },
  {
   "cell_type": "code",
   "execution_count": 16,
   "id": "a00a6212",
   "metadata": {},
   "outputs": [
    {
     "data": {
      "text/plain": [
       "{'name': 'B'}"
      ]
     },
     "execution_count": 16,
     "metadata": {},
     "output_type": "execute_result"
    }
   ],
   "source": [
    "h = {\"name\":'A',\"name\":'B'}\n",
    "h"
   ]
  },
  {
   "cell_type": "code",
   "execution_count": 17,
   "id": "4a2ff7a6",
   "metadata": {},
   "outputs": [],
   "source": [
    "lst = [1,2,3,4,5,6,7,8,9,10]\n",
    "out1 = []\n",
    "out = []\n",
    "# for i in lst:\n",
    "#     if i%2==0 or i%2!=0:\n",
    "#         out.append(i)\n",
    "# print(out)\n",
    "# #     if i%2!=0:\n",
    "# #         out1.append(i)\n",
    "# # print(out1)\n"
   ]
  },
  {
   "cell_type": "code",
   "execution_count": 18,
   "id": "ea92a446",
   "metadata": {},
   "outputs": [
    {
     "name": "stdout",
     "output_type": "stream",
     "text": [
      "[2, 4, 6, 8, 10]\n",
      "[1, 3, 5, 7, 9]\n"
     ]
    }
   ],
   "source": [
    "for i in lst:\n",
    "    if i%2==0:\n",
    "        out.append(i)\n",
    "    if i%2!=0:\n",
    "        out1.append(i)\n",
    "print(out)\n",
    "print(out1)"
   ]
  },
  {
   "cell_type": "code",
   "execution_count": 19,
   "id": "88f1ae48",
   "metadata": {},
   "outputs": [
    {
     "name": "stdout",
     "output_type": "stream",
     "text": [
      "2022-10-16 19:09:38.682539\n",
      "2022-10-16 13:39:38.683644\n"
     ]
    }
   ],
   "source": [
    "import datetime\n",
    "# print(datetime.datetime.utc())\n",
    "print(datetime.datetime.now())\n",
    "print(datetime.datetime.utcnow())"
   ]
  },
  {
   "cell_type": "code",
   "execution_count": 20,
   "id": "4f1c1a3d",
   "metadata": {},
   "outputs": [
    {
     "name": "stdout",
     "output_type": "stream",
     "text": [
      "Enter the number: 5\n"
     ]
    },
    {
     "data": {
      "text/plain": [
       "120"
      ]
     },
     "execution_count": 20,
     "metadata": {},
     "output_type": "execute_result"
    }
   ],
   "source": [
    "# get factorial of any number by itrative approch\n",
    "\n",
    "def factorial(n):\n",
    "    \"\"\"\n",
    "    Factorial\n",
    "    \"\"\"\n",
    "    fac = 1\n",
    "    for i in range(n):\n",
    "        fac = fac * (i+1)\n",
    "    return fac\n",
    "number = int(input(\"Enter the number: \"))\n",
    "# print(factorial(number))\n",
    "factorial(number)"
   ]
  },
  {
   "cell_type": "code",
   "execution_count": 21,
   "id": "1e226efc",
   "metadata": {},
   "outputs": [
    {
     "name": "stdout",
     "output_type": "stream",
     "text": [
      "Factorial of number is\n",
      "Enter the number: 6\n",
      "720\n"
     ]
    }
   ],
   "source": [
    "# recursive function for factorial\n",
    "\n",
    "def factorial_recursive(n):\n",
    "    \"\"\"Factorial of number is\"\"\"\n",
    "    if n==1:\n",
    "        return n\n",
    "    else:\n",
    "        return n * factorial_recursive(n-1)\n",
    "print(factorial_recursive.__doc__)\n",
    "\n",
    "number = int(input(\"Enter the number: \"))\n",
    "print(factorial_recursive(number))\n"
   ]
  },
  {
   "cell_type": "code",
   "execution_count": 22,
   "id": "01a3e8ec",
   "metadata": {},
   "outputs": [
    {
     "name": "stdout",
     "output_type": "stream",
     "text": [
      "Enter the number: 7\n",
      "13\n"
     ]
    }
   ],
   "source": [
    "# fibonacci series with recursive function\n",
    "\n",
    "# 0 1 1 2 3 5 8 13 21 ........\n",
    "\n",
    "def fibonacci(n):\n",
    "    if n==0:\n",
    "        return 0\n",
    "    elif n==1:\n",
    "        return 1\n",
    "    else:\n",
    "        return fibonacci(n-1) + fibonacci(n-2)\n",
    "\n",
    "number = int(input(\"Enter the number: \"))\n",
    "print(fibonacci(number))   # this is also work\n",
    "# fibonacci(number)"
   ]
  },
  {
   "cell_type": "code",
   "execution_count": 23,
   "id": "bf37f207",
   "metadata": {},
   "outputs": [
    {
     "name": "stdout",
     "output_type": "stream",
     "text": [
      "this is normal\n",
      "hii\n",
      "this\n",
      "args\n",
      "\n",
      "This is for kwargs\n",
      "name Rohan\n",
      "age 47\n"
     ]
    }
   ],
   "source": [
    "#  *args and **kwargs\n",
    "\n",
    "def hello(normal, *args, **kwargs):\n",
    "    print(normal)\n",
    "    \n",
    "    for i in args:\n",
    "        print(i)\n",
    "#         return i    # only return first value in a function\n",
    "    print(\"\\nThis is for kwargs\")\n",
    "    \n",
    "    for key, value in kwargs.items():\n",
    "        print(key,value)\n",
    "#         return key, value\n",
    "    \n",
    "n = \"this is normal\"\n",
    "\n",
    "k1 = (\"hii\",\"this\",\"args\")\n",
    "\n",
    "kw2 = {\"name\":\"Rohan\",\"age\":47}\n",
    "\n",
    "hello(n, *k1, **kw2)"
   ]
  },
  {
   "cell_type": "code",
   "execution_count": 24,
   "id": "0ce94187",
   "metadata": {},
   "outputs": [
    {
     "name": "stdout",
     "output_type": "stream",
     "text": [
      "simple function running\n",
      "by this decorator\n"
     ]
    }
   ],
   "source": [
    "# Decorators\n",
    "\n",
    "# Decorators modify the behaviour of a function or class.\n",
    "\n",
    "def function1(func1):\n",
    "    print(\"simple function running\")\n",
    "    return func1\n",
    "\n",
    "@function1\n",
    "def print_this():\n",
    "    print(\"by this decorator\")\n",
    "# print_this = function1(print_this())     # this statement same as @function1, we don't have to need write above the function.\n",
    "\n",
    "print_this()   # it runs when we declare other function just above line of this function. "
   ]
  },
  {
   "cell_type": "code",
   "execution_count": 25,
   "id": "b160b13b",
   "metadata": {},
   "outputs": [
    {
     "name": "stdout",
     "output_type": "stream",
     "text": [
      "12\n",
      "12\n"
     ]
    }
   ],
   "source": [
    "def subm(b,c):\n",
    "    a = b+c\n",
    "    print(a)\n",
    "    return a\n",
    "d = subm(5,7)\n",
    "print(d)  # without return statement it will be return None"
   ]
  },
  {
   "cell_type": "code",
   "execution_count": 26,
   "id": "c7f593dc",
   "metadata": {},
   "outputs": [
    {
     "name": "stdout",
     "output_type": "stream",
     "text": [
      "<generator object gen at 0x0000016B50760350>\n"
     ]
    },
    {
     "data": {
      "text/plain": [
       "0"
      ]
     },
     "execution_count": 26,
     "metadata": {},
     "output_type": "execute_result"
    }
   ],
   "source": [
    "# generators\n",
    "\n",
    "# for i in range(80):   # it print the value on the fly, take more ram\n",
    "#     print(i)\n",
    "\n",
    "def gen(n):\n",
    "    for i in range(n):\n",
    "        yield i\n",
    "g = gen(10)\n",
    "print(g)\n",
    "g.__next__()"
   ]
  },
  {
   "cell_type": "code",
   "execution_count": 27,
   "id": "69e7b812",
   "metadata": {},
   "outputs": [
    {
     "name": "stdout",
     "output_type": "stream",
     "text": [
      "run this\n",
      "by dec\n"
     ]
    }
   ],
   "source": [
    "def hello(funckk):\n",
    "    print(\"run this\")\n",
    "    return funckk\n",
    "@hello\n",
    "def this_this():\n",
    "    print(\"by dec\")\n",
    "\n",
    "this_this()\n"
   ]
  },
  {
   "cell_type": "code",
   "execution_count": 28,
   "id": "9101b600",
   "metadata": {},
   "outputs": [
    {
     "data": {
      "text/plain": [
       "'harry'"
      ]
     },
     "execution_count": 28,
     "metadata": {},
     "output_type": "execute_result"
    }
   ],
   "source": [
    "h = ['h','a','r','r','y']\n",
    "a = \"\"\n",
    "a.join(h)"
   ]
  },
  {
   "cell_type": "code",
   "execution_count": null,
   "id": "1cf5d061",
   "metadata": {},
   "outputs": [],
   "source": []
  }
 ],
 "metadata": {
  "kernelspec": {
   "display_name": "Python 3 (ipykernel)",
   "language": "python",
   "name": "python3"
  },
  "language_info": {
   "codemirror_mode": {
    "name": "ipython",
    "version": 3
   },
   "file_extension": ".py",
   "mimetype": "text/x-python",
   "name": "python",
   "nbconvert_exporter": "python",
   "pygments_lexer": "ipython3",
   "version": "3.9.12"
  }
 },
 "nbformat": 4,
 "nbformat_minor": 5
}
