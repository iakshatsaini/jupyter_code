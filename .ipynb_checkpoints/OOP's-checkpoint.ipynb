{
 "cells": [
  {
   "cell_type": "code",
   "execution_count": 1,
   "id": "bc36a3fd",
   "metadata": {},
   "outputs": [
    {
     "data": {
      "text/plain": [
       "'Blue and Circle'"
      ]
     },
     "execution_count": 1,
     "metadata": {},
     "output_type": "execute_result"
    }
   ],
   "source": [
    "class phone():\n",
    "    def set_colour(self,color, shape):   # these are the attributes of methods not class\n",
    "        self.shape = shape\n",
    "        self.color = color\n",
    "        return self.color + ' and ' + self.shape\n",
    "P1 = phone()\n",
    "P1.set_colour(\"Blue\", 'Circle')"
   ]
  },
  {
   "cell_type": "code",
   "execution_count": 4,
   "id": "3454b4db",
   "metadata": {},
   "outputs": [
    {
     "name": "stdout",
     "output_type": "stream",
     "text": [
      "Akshat has this salary Rs. 25986 and working in Google at Delhi\n"
     ]
    }
   ],
   "source": [
    "class Employee():   # creating the employee class\n",
    "    def __init__(self,name,salary,company):  # init methods acts as a constructor and it assign the attributes to a class\n",
    "        self.name = name\n",
    "        self.salary = salary\n",
    "        self.company = company\n",
    "    def details(self, location):\n",
    "        print(f\"{self.name} has this salary Rs. {self.salary} and working in {self.company} at {location}\")\n",
    "          \n",
    "\n",
    "E1 = Employee('Akshat', 25986, 'Google')   # E1 is instance of the class\n",
    "# print(E1.name)\n",
    "# print(E1.salary)\n",
    "# print(E1.company)\n",
    "E1.details('Delhi') # invoking methods thrugh object"
   ]
  },
  {
   "cell_type": "code",
   "execution_count": 5,
   "id": "f260f487",
   "metadata": {},
   "outputs": [
    {
     "data": {
      "text/plain": [
       "True"
      ]
     },
     "execution_count": 5,
     "metadata": {},
     "output_type": "execute_result"
    }
   ],
   "source": [
    "isinstance(E1, Employee)   # this method for checking the instance of the class."
   ]
  },
  {
   "cell_type": "code",
   "execution_count": 6,
   "id": "cf20f38a",
   "metadata": {},
   "outputs": [
    {
     "data": {
      "text/plain": [
       "10"
      ]
     },
     "execution_count": 6,
     "metadata": {},
     "output_type": "execute_result"
    }
   ],
   "source": [
    "class area():\n",
    "    def __init__(self,radius):\n",
    "        self.radius = radius\n",
    "    def evluate(self):\n",
    "        return 2 * self.radius\n",
    "a1 = area(5)\n",
    "a1.evluate()"
   ]
  },
  {
   "cell_type": "code",
   "execution_count": 5,
   "id": "24a4a892",
   "metadata": {},
   "outputs": [
    {
     "name": "stdout",
     "output_type": "stream",
     "text": [
      "I am a car\n",
      "mileage of vehicle is 22 km/l and cost is 650000 \n"
     ]
    }
   ],
   "source": [
    "# with inheritance one class can drive the properties of the other class.\n",
    "# example: child inheriting features from father.\n",
    "\n",
    "# single inheritance\n",
    "\n",
    "# parent class\n",
    "class vehicle():\n",
    "    def __init__(self,mileage,cost):\n",
    "        self.mileage = mileage\n",
    "        self.cost = cost\n",
    "    def show_details(self):\n",
    "        print(f\"mileage of vehicle is {self.mileage} km/l and cost is {self.cost} \")\n",
    "v1 = vehicle(45, 93000)\n",
    "# v1.show_details()\n",
    "\n",
    "# child class\n",
    "class car(vehicle):    # inherit the vehicle class in car class for using the vehicle class methods \n",
    "    def show_car(self):\n",
    "        print(\"I am a car\")\n",
    "c1 = car(22, 650000)\n",
    "c1.show_car()      # invoking child class methods\n",
    "c1.show_details()  # invoking parent class methods\n"
   ]
  },
  {
   "cell_type": "code",
   "execution_count": 7,
   "id": "66892ea3",
   "metadata": {},
   "outputs": [
    {
     "ename": "NameError",
     "evalue": "name 'vehicle' is not defined",
     "output_type": "error",
     "traceback": [
      "\u001b[1;31m---------------------------------------------------------------------------\u001b[0m",
      "\u001b[1;31mNameError\u001b[0m                                 Traceback (most recent call last)",
      "Cell \u001b[1;32mIn[7], line 3\u001b[0m\n\u001b[0;32m      1\u001b[0m \u001b[38;5;66;03m# Over riding init method\u001b[39;00m\n\u001b[1;32m----> 3\u001b[0m \u001b[38;5;28;01mclass\u001b[39;00m \u001b[38;5;21;01mcar\u001b[39;00m(vehicle):\n\u001b[0;32m      4\u001b[0m     \u001b[38;5;28;01mdef\u001b[39;00m \u001b[38;5;21m__init__\u001b[39m(\u001b[38;5;28mself\u001b[39m,mileage,cost,tyres,hp):\n\u001b[0;32m      5\u001b[0m         \u001b[38;5;28msuper\u001b[39m()\u001b[38;5;241m.\u001b[39m\u001b[38;5;21m__init__\u001b[39m(mileage,cost)\n",
      "\u001b[1;31mNameError\u001b[0m: name 'vehicle' is not defined"
     ]
    }
   ],
   "source": [
    "# Over riding init method\n",
    "\n",
    "class car(vehicle):\n",
    "    def __init__(self,mileage,cost,tyres,hp):\n",
    "        super().__init__(mileage,cost)\n",
    "        self.tyres = tyres\n",
    "        self.hp = hp\n",
    "    def show_car_details(self):\n",
    "        print(f\"has {self.tyres} tyres and horse power is {self.hp}\")\n",
    "c2 = car(22, 650000, 4, 1400)\n",
    "c2.show_details()\n",
    "c2.show_car_details()\n",
    " "
   ]
  },
  {
   "cell_type": "code",
   "execution_count": 9,
   "id": "50481b37",
   "metadata": {},
   "outputs": [
    {
     "name": "stdout",
     "output_type": "stream",
     "text": [
      "A\n",
      "B\n",
      "C\n"
     ]
    }
   ],
   "source": [
    "# multiple inheritance\n",
    "\n",
    "# in this the child class inheritis more than 1 parent class.\n",
    "\n",
    "\n",
    "class parent1():\n",
    "    def string_one(self,str1):\n",
    "        self.str1 = str1\n",
    "        return self.str1\n",
    "    \n",
    "class parent2():\n",
    "    def string_two(self,str2):\n",
    "        self.str2 = str2\n",
    "        return self.str2\n",
    "\n",
    "class child(parent1,parent2):\n",
    "    def string_three(self,str3):\n",
    "        self.str3 = str3\n",
    "        return self.str3\n",
    "    \n",
    "d1 = child()\n",
    "print(d1.string_one(\"A\"))\n",
    "print(d1.string_two(\"B\"))\n",
    "print(d1.string_three(\"C\"))\n",
    "\n",
    "   "
   ]
  },
  {
   "cell_type": "code",
   "execution_count": 8,
   "id": "ac9a01fa",
   "metadata": {},
   "outputs": [
    {
     "name": "stdout",
     "output_type": "stream",
     "text": [
      "Raju\n",
      "23\n",
      "Male\n"
     ]
    }
   ],
   "source": [
    "# multi-level inheritance\n",
    "\n",
    "# we have grand parent, parent and child class relationship\n",
    "\n",
    "class grand_parent():\n",
    "    def show_name(self, name):\n",
    "        self.name = name\n",
    "        return self.name\n",
    "    \n",
    "class parent(grand_parent):\n",
    "    def show_age(self, age):\n",
    "        self.age = age\n",
    "        return self.age\n",
    "\n",
    "class child(parent):\n",
    "    def show_gender(self, gender):\n",
    "        self.gender = gender\n",
    "        return self.gender\n",
    "    \n",
    "g1 = child()\n",
    "\n",
    "print(g1.show_name(\"Raju\"))\n",
    "print(g1.show_age(23))\n",
    "print(g1.show_gender(\"Male\"))"
   ]
  },
  {
   "cell_type": "code",
   "execution_count": 9,
   "id": "4bac11e6",
   "metadata": {},
   "outputs": [],
   "source": [
    "# Polymorphism \n",
    "\n",
    "# ‘Polymorphism’ = same function(method) name with different functionalities for different classes\n",
    "\n",
    "\n",
    "class Book():\n",
    "    def __init__(self, name, pages):\n",
    "        self.name = name\n",
    "        self.pages = pages\n",
    "    def show(self):\n",
    "        print(f\"this is a book of {self.name} and has {self.pages} pages\")\n",
    "my_book = Book('Half Girlfriend',200)\n",
    "\n",
    "\n",
    "class Movie():\n",
    "    def __init__(self, name, duration):\n",
    "        self.name = name\n",
    "        self.duration = duration\n",
    "    def show(self):\n",
    "        print(f\"this is a {self.name} movie of {self.duration} hours duration\")\n",
    "my_Movie = Movie(\"Qismat\",2)"
   ]
  },
  {
   "cell_type": "code",
   "execution_count": 10,
   "id": "14a3043b",
   "metadata": {},
   "outputs": [
    {
     "name": "stdout",
     "output_type": "stream",
     "text": [
      "this is a book of Half Girlfriend and has 200 pages\n"
     ]
    }
   ],
   "source": [
    "my_book.show()"
   ]
  },
  {
   "cell_type": "code",
   "execution_count": 11,
   "id": "90816e65",
   "metadata": {},
   "outputs": [
    {
     "name": "stdout",
     "output_type": "stream",
     "text": [
      "this is a Qismat movie of 2 hours duration\n"
     ]
    }
   ],
   "source": [
    "my_Movie.show()"
   ]
  },
  {
   "cell_type": "code",
   "execution_count": 55,
   "id": "adb8797d",
   "metadata": {},
   "outputs": [],
   "source": [
    "# Encapsulation = wrapping and protected the data in a class using access modifiers\n",
    "\n",
    "# Encapsulation = restricting access to the data or methods that can manipulate it\n",
    "\n",
    "# Access Modifiers = there are three types of access modifiers\n",
    "\n",
    "# pubic - accessible and modifiable outside class\n",
    "\n",
    "# private - not easily accessible and modifiable outside class\n",
    "\n",
    "# protected - objects can be accessible but can be made not modifiable outside class\n",
    "\n",
    "class person:\n",
    "    number = 123457890             # Public attribute or class attribute\n",
    "    __city = 'Roorkee'\n",
    "    _place = 'Haridwar'\n",
    "    \n",
    "    def __init__(self, name, age, location):\n",
    "        self.name = name           # object attribute\n",
    "        self.__age = age           # Object private attribute\n",
    "        self._location = location    # protected attribute\n",
    "    \n",
    "    def show_name(self):\n",
    "        return f\"my name is {self.name}\"\n",
    "    \n",
    "    def show_age(self):    # Private Method\n",
    "        return f\"i am {self.age} year old\"\n",
    "    \n"
   ]
  },
  {
   "cell_type": "code",
   "execution_count": 48,
   "id": "e2bb7c2a",
   "metadata": {},
   "outputs": [],
   "source": [
    "p1 = person(\"Akshat\", '23', 'Delhi')"
   ]
  },
  {
   "cell_type": "code",
   "execution_count": 49,
   "id": "706ae8c2",
   "metadata": {},
   "outputs": [
    {
     "data": {
      "text/plain": [
       "123457890"
      ]
     },
     "execution_count": 49,
     "metadata": {},
     "output_type": "execute_result"
    }
   ],
   "source": [
    "person.number"
   ]
  },
  {
   "cell_type": "code",
   "execution_count": 50,
   "id": "77667080",
   "metadata": {},
   "outputs": [
    {
     "ename": "AttributeError",
     "evalue": "type object 'person' has no attribute '__city'",
     "output_type": "error",
     "traceback": [
      "\u001b[1;31m---------------------------------------------------------------------------\u001b[0m",
      "\u001b[1;31mAttributeError\u001b[0m                            Traceback (most recent call last)",
      "Cell \u001b[1;32mIn[50], line 1\u001b[0m\n\u001b[1;32m----> 1\u001b[0m person\u001b[38;5;241m.\u001b[39m__city\n",
      "\u001b[1;31mAttributeError\u001b[0m: type object 'person' has no attribute '__city'"
     ]
    }
   ],
   "source": [
    "person.__city                # getting attribute error due to protected Method"
   ]
  },
  {
   "cell_type": "code",
   "execution_count": 51,
   "id": "5347cc29",
   "metadata": {},
   "outputs": [
    {
     "data": {
      "text/plain": [
       "'my name is Akshat'"
      ]
     },
     "execution_count": 51,
     "metadata": {},
     "output_type": "execute_result"
    }
   ],
   "source": [
    "p1.show_name()"
   ]
  },
  {
   "cell_type": "code",
   "execution_count": 52,
   "id": "f8688b08",
   "metadata": {},
   "outputs": [
    {
     "ename": "AttributeError",
     "evalue": "'person' object has no attribute 'age'",
     "output_type": "error",
     "traceback": [
      "\u001b[1;31m---------------------------------------------------------------------------\u001b[0m",
      "\u001b[1;31mAttributeError\u001b[0m                            Traceback (most recent call last)",
      "Cell \u001b[1;32mIn[52], line 1\u001b[0m\n\u001b[1;32m----> 1\u001b[0m p1\u001b[38;5;241m.\u001b[39mshow_age()\n",
      "Cell \u001b[1;32mIn[47], line 26\u001b[0m, in \u001b[0;36mperson.show_age\u001b[1;34m(self)\u001b[0m\n\u001b[0;32m     25\u001b[0m \u001b[38;5;28;01mdef\u001b[39;00m \u001b[38;5;21mshow_age\u001b[39m(\u001b[38;5;28mself\u001b[39m):    \u001b[38;5;66;03m# Private Method\u001b[39;00m\n\u001b[1;32m---> 26\u001b[0m     \u001b[38;5;28;01mreturn\u001b[39;00m \u001b[38;5;124mf\u001b[39m\u001b[38;5;124m\"\u001b[39m\u001b[38;5;124mi am \u001b[39m\u001b[38;5;132;01m{\u001b[39;00m\u001b[38;5;28mself\u001b[39m\u001b[38;5;241m.\u001b[39mage\u001b[38;5;132;01m}\u001b[39;00m\u001b[38;5;124m year old\u001b[39m\u001b[38;5;124m\"\u001b[39m\n",
      "\u001b[1;31mAttributeError\u001b[0m: 'person' object has no attribute 'age'"
     ]
    }
   ],
   "source": [
    "p1.show_age()"
   ]
  },
  {
   "cell_type": "code",
   "execution_count": 53,
   "id": "9115951f",
   "metadata": {},
   "outputs": [
    {
     "data": {
      "text/plain": [
       "'Roorkee'"
      ]
     },
     "execution_count": 53,
     "metadata": {},
     "output_type": "execute_result"
    }
   ],
   "source": [
    "#  For accessing the private attribute by using the name mangling\n",
    "\n",
    "p1._person__city"
   ]
  },
  {
   "cell_type": "code",
   "execution_count": 56,
   "id": "9cd28f2c",
   "metadata": {},
   "outputs": [
    {
     "data": {
      "text/plain": [
       "'Haridwar'"
      ]
     },
     "execution_count": 56,
     "metadata": {},
     "output_type": "execute_result"
    }
   ],
   "source": [
    "# For access the protected attribute of a class\n",
    "person._place"
   ]
  },
  {
   "cell_type": "code",
   "execution_count": 54,
   "id": "13471282",
   "metadata": {},
   "outputs": [
    {
     "data": {
      "text/plain": [
       "'Delhi'"
      ]
     },
     "execution_count": 54,
     "metadata": {},
     "output_type": "execute_result"
    }
   ],
   "source": [
    "# For access the protected attribute of a object\n",
    "p1._location"
   ]
  },
  {
   "cell_type": "code",
   "execution_count": 61,
   "id": "9bf4dffc",
   "metadata": {},
   "outputs": [],
   "source": []
  },
  {
   "cell_type": "code",
   "execution_count": 12,
   "id": "3f257165",
   "metadata": {},
   "outputs": [
    {
     "name": "stdout",
     "output_type": "stream",
     "text": [
      "<generator object gen at 0x00000285C1D3CF20>\n"
     ]
    },
    {
     "data": {
      "text/plain": [
       "0"
      ]
     },
     "execution_count": 12,
     "metadata": {},
     "output_type": "execute_result"
    }
   ],
   "source": [
    "# generators\n",
    "\n",
    "# for i in range(80):   # it print the value on the fly, take more ram\n",
    "#     print(i)\n",
    "\n",
    "def gen(n):\n",
    "    for i in range(n):\n",
    "        yield i\n",
    "g = gen(10)\n",
    "print(g)\n",
    "g.__next__()"
   ]
  },
  {
   "cell_type": "code",
   "execution_count": 13,
   "id": "3cc6aeed",
   "metadata": {},
   "outputs": [
    {
     "name": "stdout",
     "output_type": "stream",
     "text": [
      "simple function running\n",
      "by this decorator\n"
     ]
    }
   ],
   "source": [
    "# Decorators\n",
    "\n",
    "# Decorators modify the behaviour of a function or class.\n",
    "\n",
    "def function1(func1):\n",
    "    print(\"simple function running\")\n",
    "    return func1\n",
    "\n",
    "@function1\n",
    "def print_this():\n",
    "    print(\"by this decorator\")\n",
    "# print_this = function1(print_this())     # this statement same as @function1, we don't have to need write above the function.\n",
    "\n",
    "print_this()   # it runs when we declare other function just above line of this function. "
   ]
  },
  {
   "cell_type": "code",
   "execution_count": 14,
   "id": "9f70950f",
   "metadata": {},
   "outputs": [
    {
     "name": "stdout",
     "output_type": "stream",
     "text": [
      "this is normal\n",
      "hii\n",
      "this\n",
      "args\n",
      "\n",
      "This is for kwargs\n",
      "name Rohan\n",
      "age 47\n"
     ]
    }
   ],
   "source": [
    "#  *args and **kwargs\n",
    "\n",
    "def hello(normal, *args, **kwargs):\n",
    "    print(normal)\n",
    "    \n",
    "    for i in args:\n",
    "        print(i)\n",
    "#         return i    # only return first value in a function\n",
    "    print(\"\\nThis is for kwargs\")\n",
    "    \n",
    "    for key, value in kwargs.items():\n",
    "        print(key,value)\n",
    "#         return key, value\n",
    "    \n",
    "n = \"this is normal\"\n",
    "\n",
    "k1 = (\"hii\",\"this\",\"args\")\n",
    "\n",
    "kw2 = {\"name\":\"Rohan\",\"age\":47}\n",
    "\n",
    "hello(n, *k1, **kw2)"
   ]
  },
  {
   "cell_type": "code",
   "execution_count": 15,
   "id": "d14fb3d6",
   "metadata": {},
   "outputs": [
    {
     "name": "stdout",
     "output_type": "stream",
     "text": [
      "Enter the number: 8\n",
      "21\n"
     ]
    }
   ],
   "source": [
    "# fibonacci series with recursive function\n",
    "\n",
    "# 0 1 1 2 3 5 8 13 21 ........\n",
    "\n",
    "def fibonacci(n):\n",
    "    if n==0:\n",
    "        return 0\n",
    "    elif n==1:\n",
    "        return 1\n",
    "    else:\n",
    "        return fibonacci(n-1) + fibonacci(n-2)\n",
    "\n",
    "number = int(input(\"Enter the number: \"))\n",
    "print(fibonacci(number))   # this is also work\n",
    "# fibonacci(number)"
   ]
  },
  {
   "cell_type": "code",
   "execution_count": 16,
   "id": "07858432",
   "metadata": {},
   "outputs": [
    {
     "name": "stdout",
     "output_type": "stream",
     "text": [
      "Factorial of number is\n",
      "Enter the number: 8\n",
      "40320\n"
     ]
    }
   ],
   "source": [
    "# recursive function for factorial\n",
    "\n",
    "def factorial_recursive(n):\n",
    "    \"\"\"Factorial of number is\"\"\"\n",
    "    if n==1:\n",
    "        return n\n",
    "    else:\n",
    "        return n * factorial_recursive(n-1)\n",
    "print(factorial_recursive.__doc__)\n",
    "\n",
    "number = int(input(\"Enter the number: \"))\n",
    "print(factorial_recursive(number))\n"
   ]
  },
  {
   "cell_type": "code",
   "execution_count": 17,
   "id": "bbf01be9",
   "metadata": {},
   "outputs": [
    {
     "name": "stdout",
     "output_type": "stream",
     "text": [
      "Enter the number: 8\n"
     ]
    },
    {
     "data": {
      "text/plain": [
       "40320"
      ]
     },
     "execution_count": 17,
     "metadata": {},
     "output_type": "execute_result"
    }
   ],
   "source": [
    "# get factorial of any number by itrative approch\n",
    "\n",
    "def factorial(n):\n",
    "    \"\"\"\n",
    "    Factorial\n",
    "    \"\"\"\n",
    "    fac = 1\n",
    "    for i in range(n):\n",
    "        fac = fac * (i+1)\n",
    "    return fac\n",
    "number = int(input(\"Enter the number: \"))\n",
    "# print(factorial(number))\n",
    "factorial(number)"
   ]
  },
  {
   "cell_type": "code",
   "execution_count": null,
   "id": "00acd1ed",
   "metadata": {},
   "outputs": [],
   "source": []
  }
 ],
 "metadata": {
  "kernelspec": {
   "display_name": "Python 3 (ipykernel)",
   "language": "python",
   "name": "python3"
  },
  "language_info": {
   "codemirror_mode": {
    "name": "ipython",
    "version": 3
   },
   "file_extension": ".py",
   "mimetype": "text/x-python",
   "name": "python",
   "nbconvert_exporter": "python",
   "pygments_lexer": "ipython3",
   "version": "3.11.5"
  }
 },
 "nbformat": 4,
 "nbformat_minor": 5
}
