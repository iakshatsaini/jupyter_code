{
 "cells": [
  {
   "cell_type": "markdown",
   "id": "e11503e6",
   "metadata": {},
   "source": [
    "# Programming"
   ]
  },
  {
   "cell_type": "markdown",
   "id": "52273e50",
   "metadata": {},
   "source": [
    "Programming is a way to instruct the computer from the user to perform a various task."
   ]
  },
  {
   "cell_type": "markdown",
   "id": "5b843fec",
   "metadata": {},
   "source": [
    "# Python"
   ]
  },
  {
   "cell_type": "markdown",
   "id": "8cd2951a",
   "metadata": {},
   "source": [
    "Python is a popular, easy to learn & interpreted programming language. Python was created by Guido Van Rossum and released in 1991.\n",
    "It is mainly used for Web Development, Software Development, Game Development, Machine Learning and Deep Learning. "
   ]
  },
  {
   "cell_type": "markdown",
   "id": "8d15d243",
   "metadata": {},
   "source": [
    "## Features of Python"
   ]
  },
  {
   "cell_type": "markdown",
   "id": "7d6bc7f3",
   "metadata": {},
   "source": [
    "- Easy to Understand\n",
    "- Free and Open Source\n",
    "- High level Language\n",
    "- Portable - Works on different OS"
   ]
  },
  {
   "cell_type": "markdown",
   "id": "bb90e49e",
   "metadata": {},
   "source": [
    "### Installation of Python"
   ]
  },
  {
   "cell_type": "markdown",
   "id": "5b72e66a",
   "metadata": {},
   "source": [
    "Visit this link:- https://www.python.org/downloads/ for download the python according to your system configuration."
   ]
  },
  {
   "cell_type": "markdown",
   "id": "e2cf5307",
   "metadata": {},
   "source": [
    "##### Note:- The extension of python file is .py"
   ]
  },
  {
   "cell_type": "markdown",
   "id": "9b4e8784",
   "metadata": {},
   "source": [
    "### pip"
   ]
  },
  {
   "cell_type": "markdown",
   "id": "da440668",
   "metadata": {},
   "source": [
    "pip is a pacakage manager which uses for installing the modules of python in your system."
   ]
  },
  {
   "cell_type": "markdown",
   "id": "432a803f",
   "metadata": {},
   "source": [
    "#### There are two modules of Python.\n",
    "1. Built in Modules:- build in modules pre installed in python.\n",
    "2. Installed by Externally:- these modules need to be installed by using pip.\n",
    "\n",
    "    E.g. pip install numpy"
   ]
  },
  {
   "cell_type": "markdown",
   "id": "1475c3e0",
   "metadata": {},
   "source": [
    "#### Comments in Python\n",
    "Comments use as a note in code, because this is not include in code and python interpreter ignore these lines in code.\n",
    "###### There are two types of comments\n",
    "1.Single Line Comments\n",
    "  - this comment start by using #. E.g. # this is a comment.\n",
    "\n",
    "2.Multi Line Comments\n",
    "  - this comment written in triple quotes in multi lines. \n",
    "  \n",
    "          E.g. ''' this is a Multi\n",
    "                  line comment.'''"
   ]
  },
  {
   "cell_type": "markdown",
   "id": "cad6b8fe",
   "metadata": {},
   "source": [
    "### Let's write our first python code"
   ]
  },
  {
   "cell_type": "code",
   "execution_count": 1,
   "id": "17773585",
   "metadata": {},
   "outputs": [
    {
     "name": "stdout",
     "output_type": "stream",
     "text": [
      "Hello World!\n"
     ]
    }
   ],
   "source": [
    "print(\"Hello World!\")"
   ]
  },
  {
   "cell_type": "markdown",
   "id": "089efe88",
   "metadata": {},
   "source": [
    "### Variables in Python\n",
    "   Variables are containers type in python for storing the data values. Also we can say that in program variable is a name to given a particular memory location.\n",
    "   \n",
    "   E.g."
   ]
  },
  {
   "cell_type": "code",
   "execution_count": 2,
   "id": "7d45f557",
   "metadata": {},
   "outputs": [],
   "source": [
    "x = 2           # this is a int type\n",
    "y = 5.2         # this is a float.\n",
    "z = 'Akshat'    # this is a string."
   ]
  },
  {
   "cell_type": "code",
   "execution_count": 3,
   "id": "a0120fcc",
   "metadata": {},
   "outputs": [
    {
     "name": "stdout",
     "output_type": "stream",
     "text": [
      "2\n",
      "5.2\n",
      "Akshat\n"
     ]
    }
   ],
   "source": [
    "print(x)\n",
    "print(y)\n",
    "print(z)"
   ]
  },
  {
   "cell_type": "markdown",
   "id": "c38e30ca",
   "metadata": {},
   "source": [
    "#### Rules of defining the variables\n",
    "- A variable can contain only alphabets, digits and underscore.\n",
    "- Variable name can only start with alphabets and underscore.\n",
    "- Variable can't start with digits.\n",
    "- Whitespace does not allow to use iniside the variable.\n",
    "- Variables can be case sensitive.(hello, HEllO & HELLO are diffrent variable.)\n",
    "\n",
    "\n",
    "Let's see the example below:-"
   ]
  },
  {
   "cell_type": "code",
   "execution_count": 4,
   "id": "50b15937",
   "metadata": {},
   "outputs": [],
   "source": [
    "_h = 5\n",
    "a = 3\n",
    "h_b = 3\n",
    "hello = 'Raju'\n",
    "HellO = 7\n",
    "HELLO = 9"
   ]
  },
  {
   "cell_type": "code",
   "execution_count": 5,
   "id": "8439bb60",
   "metadata": {},
   "outputs": [
    {
     "name": "stdout",
     "output_type": "stream",
     "text": [
      "5\n",
      "3\n",
      "3\n",
      "Raju\n",
      "7\n",
      "9\n"
     ]
    }
   ],
   "source": [
    "print(_h)\n",
    "print(a)\n",
    "print(h_b)\n",
    "print(hello)\n",
    "print(HellO)\n",
    "print(HELLO)"
   ]
  },
  {
   "cell_type": "code",
   "execution_count": 6,
   "id": "5b85eeef",
   "metadata": {},
   "outputs": [],
   "source": [
    "# 1 = 2\n",
    "# when we try to declare variable with digit, it throw the error."
   ]
  },
  {
   "cell_type": "markdown",
   "id": "774d24e6",
   "metadata": {},
   "source": [
    "#### Data Types in Python\n",
    "- Integer\n",
    "- Float\n",
    "- String\n",
    "- Boolean\n",
    "- None\n",
    "\n",
    "we can also know the data types of varible by using pre defined type function."
   ]
  },
  {
   "cell_type": "code",
   "execution_count": 7,
   "id": "c8cc8ee3",
   "metadata": {},
   "outputs": [
    {
     "name": "stdout",
     "output_type": "stream",
     "text": [
      "<class 'int'>\n",
      "<class 'float'>\n",
      "<class 'str'>\n"
     ]
    }
   ],
   "source": [
    "x = 21\n",
    "y = 21.5\n",
    "z = 'Hello'\n",
    "\n",
    "print(type(x))\n",
    "print(type(y))\n",
    "print(type(z))"
   ]
  },
  {
   "cell_type": "markdown",
   "id": "1f740fe4",
   "metadata": {},
   "source": [
    "#### Assign multiple values"
   ]
  },
  {
   "cell_type": "code",
   "execution_count": 8,
   "id": "aa56359f",
   "metadata": {},
   "outputs": [],
   "source": [
    "a, b, c = 'Orange', 5, 'Banana'"
   ]
  },
  {
   "cell_type": "code",
   "execution_count": 9,
   "id": "54d06c74",
   "metadata": {},
   "outputs": [
    {
     "name": "stdout",
     "output_type": "stream",
     "text": [
      "Orange\n",
      "5\n",
      "Banana\n"
     ]
    }
   ],
   "source": [
    "print(a)\n",
    "print(b)\n",
    "print(c)"
   ]
  },
  {
   "cell_type": "markdown",
   "id": "284fcd36",
   "metadata": {},
   "source": [
    "We can also assign single value to multiple variables."
   ]
  },
  {
   "cell_type": "code",
   "execution_count": 10,
   "id": "dc1fd907",
   "metadata": {},
   "outputs": [],
   "source": [
    "a = b = c = \"Mango\""
   ]
  },
  {
   "cell_type": "code",
   "execution_count": 11,
   "id": "1e00c5ae",
   "metadata": {},
   "outputs": [
    {
     "name": "stdout",
     "output_type": "stream",
     "text": [
      "Mango\n",
      "Mango\n",
      "Mango\n"
     ]
    }
   ],
   "source": [
    "print(a)\n",
    "print(b)\n",
    "print(c)"
   ]
  },
  {
   "cell_type": "markdown",
   "id": "7b5c7286",
   "metadata": {},
   "source": [
    "#### Operators in Python"
   ]
  },
  {
   "cell_type": "markdown",
   "id": "cb5feb0e",
   "metadata": {},
   "source": [
    "1. Arthmetic Operators:- (+, -, *, / etc.)\n",
    "2. Assignment Operators:- (=, +=, -= etc.)\n",
    "3. Comparison Operators:- (==, >, <, <=, >=, etc)\n",
    "4. Logical Operators:- (and, or, not)"
   ]
  },
  {
   "cell_type": "markdown",
   "id": "05c9e213",
   "metadata": {},
   "source": [
    "#### Typecasting\n",
    "\n",
    "Convert the one datatypes to another datatypes is known as **Typecasting**."
   ]
  },
  {
   "cell_type": "code",
   "execution_count": 12,
   "id": "b318866b",
   "metadata": {},
   "outputs": [
    {
     "data": {
      "text/plain": [
       "'58'"
      ]
     },
     "execution_count": 12,
     "metadata": {},
     "output_type": "execute_result"
    }
   ],
   "source": [
    "str(58)\n",
    "# the integer value will convert in a string."
   ]
  },
  {
   "cell_type": "code",
   "execution_count": 13,
   "id": "a6e9e6e3",
   "metadata": {},
   "outputs": [
    {
     "data": {
      "text/plain": [
       "58"
      ]
     },
     "execution_count": 13,
     "metadata": {},
     "output_type": "execute_result"
    }
   ],
   "source": [
    "int('58')\n",
    "# the string value will convert in a integer."
   ]
  },
  {
   "cell_type": "code",
   "execution_count": 14,
   "id": "40ed60ad",
   "metadata": {},
   "outputs": [
    {
     "data": {
      "text/plain": [
       "58.0"
      ]
     },
     "execution_count": 14,
     "metadata": {},
     "output_type": "execute_result"
    }
   ],
   "source": [
    "float(58)\n",
    "# the integer value will convert in a float value."
   ]
  },
  {
   "cell_type": "markdown",
   "id": "8e86c21c",
   "metadata": {},
   "source": [
    "#### Input Function\n",
    "This Function allows the user to take the input from the user(from the keyboard). \n",
    "\n",
    "###### Note:- In the input function the output of user taken value will always a String."
   ]
  },
  {
   "cell_type": "code",
   "execution_count": 15,
   "id": "3d5751b2",
   "metadata": {},
   "outputs": [
    {
     "name": "stdout",
     "output_type": "stream",
     "text": [
      "Enter is your name: Akshat\n"
     ]
    }
   ],
   "source": [
    "a = input(\"Enter is your name: \")"
   ]
  },
  {
   "cell_type": "markdown",
   "id": "9c358609",
   "metadata": {},
   "source": [
    "#### Strings\n",
    "Which sentence surrounded by single or double quotation marks in python is known as Strings and this is also a datatype of python.\n",
    "\n",
    "\n",
    "##### 'Akshat' is the same as \"Akshat\".\n",
    "we can display string by print method.\n",
    "\n",
    "Let's see example."
   ]
  },
  {
   "cell_type": "code",
   "execution_count": 16,
   "id": "70c68cfb",
   "metadata": {},
   "outputs": [
    {
     "name": "stdout",
     "output_type": "stream",
     "text": [
      "Akshat\n",
      "Saini\n"
     ]
    }
   ],
   "source": [
    "print('Akshat')\n",
    "print(\"Saini\")"
   ]
  },
  {
   "cell_type": "markdown",
   "id": "421c81da",
   "metadata": {},
   "source": [
    "##### Now assign string value to a variable.\n"
   ]
  },
  {
   "cell_type": "code",
   "execution_count": 17,
   "id": "752e64d1",
   "metadata": {},
   "outputs": [],
   "source": [
    "a = 'Akshat'\n",
    "b = \"Saini\""
   ]
  },
  {
   "cell_type": "code",
   "execution_count": 18,
   "id": "03026ccb",
   "metadata": {},
   "outputs": [
    {
     "name": "stdout",
     "output_type": "stream",
     "text": [
      "Akshat\n",
      "Saini\n"
     ]
    }
   ],
   "source": [
    "print(a)\n",
    "print(b)"
   ]
  },
  {
   "cell_type": "markdown",
   "id": "081f8379",
   "metadata": {},
   "source": [
    "We can also assign the multiline string to a variable by using three double quotes and three single quotes."
   ]
  },
  {
   "cell_type": "code",
   "execution_count": 19,
   "id": "3371f346",
   "metadata": {},
   "outputs": [],
   "source": [
    "a = \"\"\"Hello this is a tutorial of python.\n",
    "and\n",
    "this is a multiline string.\"\"\""
   ]
  },
  {
   "cell_type": "code",
   "execution_count": 20,
   "id": "7220dba4",
   "metadata": {},
   "outputs": [
    {
     "name": "stdout",
     "output_type": "stream",
     "text": [
      "Hello this is a tutorial of python.\n",
      "and\n",
      "this is a multiline string.\n"
     ]
    }
   ],
   "source": [
    "print(a)"
   ]
  },
  {
   "cell_type": "code",
   "execution_count": 21,
   "id": "46f52aee",
   "metadata": {},
   "outputs": [],
   "source": [
    "b = '''Hello this is a tutorial of python.\n",
    "and\n",
    "this is a multiline string.'''"
   ]
  },
  {
   "cell_type": "code",
   "execution_count": 22,
   "id": "63a4bf17",
   "metadata": {},
   "outputs": [
    {
     "name": "stdout",
     "output_type": "stream",
     "text": [
      "Hello this is a tutorial of python.\n",
      "and\n",
      "this is a multiline string.\n"
     ]
    }
   ],
   "source": [
    "print(b)"
   ]
  },
  {
   "cell_type": "markdown",
   "id": "13cfa9ec",
   "metadata": {},
   "source": [
    "#### String Slicing\n",
    "Find the position of the values in a string is known as **Slicing**.\n",
    "\n",
    "let's see the example of string slicing."
   ]
  },
  {
   "cell_type": "code",
   "execution_count": 23,
   "id": "95a797cc",
   "metadata": {},
   "outputs": [],
   "source": [
    "name = 'AKSHAT'    # No. of letter in the string is called lenth, so Lenth = 6 of this string."
   ]
  },
  {
   "cell_type": "markdown",
   "id": "f036e5d7",
   "metadata": {},
   "source": [
    "In the slicing the indexing of the string starts from **0 to lenth -1**. So, the indxing of this is string is--\n",
    "- A = [0]\n",
    "- K = [1]\n",
    "- S = [2]\n",
    "- H = [3]\n",
    "- A = [4]\n",
    "- T = [5]"
   ]
  },
  {
   "cell_type": "code",
   "execution_count": 24,
   "id": "10b56d54",
   "metadata": {},
   "outputs": [
    {
     "data": {
      "text/plain": [
       "('A', 'K', 'S', 'H', 'A', 'T')"
      ]
     },
     "execution_count": 24,
     "metadata": {},
     "output_type": "execute_result"
    }
   ],
   "source": [
    "name[0], name[1], name[2], name[3], name[4], name[5]"
   ]
  },
  {
   "cell_type": "markdown",
   "id": "3e321a26",
   "metadata": {},
   "source": [
    "#### Method of Slicing\n",
    "\n",
    "slicing  = name [first index is included : last index is not included]\n",
    " \n",
    "Let's see below example\n"
   ]
  },
  {
   "cell_type": "code",
   "execution_count": 25,
   "id": "f3d6c74e",
   "metadata": {},
   "outputs": [
    {
     "data": {
      "text/plain": [
       "'AKS'"
      ]
     },
     "execution_count": 25,
     "metadata": {},
     "output_type": "execute_result"
    }
   ],
   "source": [
    "name[0:3]\n",
    "# From A to S will print."
   ]
  },
  {
   "cell_type": "code",
   "execution_count": 26,
   "id": "450bbe7b",
   "metadata": {},
   "outputs": [
    {
     "data": {
      "text/plain": [
       "'KS'"
      ]
     },
     "execution_count": 26,
     "metadata": {},
     "output_type": "execute_result"
    }
   ],
   "source": [
    "name[1:3]\n",
    "# only K and S will print."
   ]
  },
  {
   "cell_type": "markdown",
   "id": "d58448f4",
   "metadata": {},
   "source": [
    "#### Negative Indexing\n",
    "Negative Indexing also same as Normal Indexing but in this, indxeing starts from the last element of the string in negative sequence.\n",
    "\n",
    "E.g\n",
    "- A = [-6]\n",
    "- K = [-5]\n",
    "- S = [-4]\n",
    "- H = [-3]\n",
    "- A = [-2]\n",
    "- T = [-1]"
   ]
  },
  {
   "cell_type": "code",
   "execution_count": 27,
   "id": "903a5874",
   "metadata": {},
   "outputs": [
    {
     "data": {
      "text/plain": [
       "('A', 'K', 'S', 'H', 'A', 'T')"
      ]
     },
     "execution_count": 27,
     "metadata": {},
     "output_type": "execute_result"
    }
   ],
   "source": [
    "name[-6], name[-5], name[-4], name[-3], name[-2], name[-1]"
   ]
  },
  {
   "cell_type": "markdown",
   "id": "3f97c71a",
   "metadata": {},
   "source": [
    "#### String Functions\n",
    "There are some functions which uses for perform the operations in string.\n"
   ]
  },
  {
   "cell_type": "code",
   "execution_count": 28,
   "id": "fe7940a9",
   "metadata": {},
   "outputs": [
    {
     "data": {
      "text/plain": [
       "6"
      ]
     },
     "execution_count": 28,
     "metadata": {},
     "output_type": "execute_result"
    }
   ],
   "source": [
    "len(name)\n",
    "# This function is use for knowing the lenth of the string."
   ]
  },
  {
   "cell_type": "code",
   "execution_count": 29,
   "id": "1e5d67a0",
   "metadata": {},
   "outputs": [
    {
     "data": {
      "text/plain": [
       "True"
      ]
     },
     "execution_count": 29,
     "metadata": {},
     "output_type": "execute_result"
    }
   ],
   "source": [
    "name.endswith(\"AT\")\n",
    "\n",
    "# This function return that the mention letter is availabe or not in the end of the string.\n",
    "# This function return the output in only boolean form. It can be only True or False."
   ]
  },
  {
   "cell_type": "code",
   "execution_count": 30,
   "id": "0f6259e3",
   "metadata": {},
   "outputs": [
    {
     "data": {
      "text/plain": [
       "False"
      ]
     },
     "execution_count": 30,
     "metadata": {},
     "output_type": "execute_result"
    }
   ],
   "source": [
    "name.endswith(\"KS\")"
   ]
  },
  {
   "cell_type": "code",
   "execution_count": 31,
   "id": "3f0796b5",
   "metadata": {},
   "outputs": [
    {
     "data": {
      "text/plain": [
       "2"
      ]
     },
     "execution_count": 31,
     "metadata": {},
     "output_type": "execute_result"
    }
   ],
   "source": [
    "name.count('A')\n",
    "# This function count the number of same letter in a string."
   ]
  },
  {
   "cell_type": "code",
   "execution_count": 32,
   "id": "6d6c01a2",
   "metadata": {},
   "outputs": [
    {
     "data": {
      "text/plain": [
       "'Akshat'"
      ]
     },
     "execution_count": 32,
     "metadata": {},
     "output_type": "execute_result"
    }
   ],
   "source": [
    "name.capitalize()\n",
    "# This function make the first letter capital of the string. "
   ]
  },
  {
   "cell_type": "code",
   "execution_count": 33,
   "id": "a059b90d",
   "metadata": {},
   "outputs": [
    {
     "data": {
      "text/plain": [
       "3"
      ]
     },
     "execution_count": 33,
     "metadata": {},
     "output_type": "execute_result"
    }
   ],
   "source": [
    "name.find('H')\n",
    "# This function find the indexing of the mentioned letter."
   ]
  },
  {
   "cell_type": "code",
   "execution_count": 34,
   "id": "21e39a07",
   "metadata": {},
   "outputs": [
    {
     "data": {
      "text/plain": [
       "'OKSHOT'"
      ]
     },
     "execution_count": 34,
     "metadata": {},
     "output_type": "execute_result"
    }
   ],
   "source": [
    "name.replace('A','O')\n",
    "# This function replace the old letter to new letter."
   ]
  },
  {
   "cell_type": "markdown",
   "id": "96b5df3f",
   "metadata": {},
   "source": [
    "#### Escape Characters of String\n",
    "\\\\'\tSingle Quote\t\n",
    "\\\\\tBackslash\t\n",
    "\\n\tNew Line\t\t\n",
    "\\t\tTab\t\n",
    "\\b\tBackspace\t"
   ]
  },
  {
   "cell_type": "markdown",
   "id": "fed6922e",
   "metadata": {},
   "source": [
    "#### String Concatenation\n",
    "For combine and add the two string by using + operator is known as **String Concatenation**."
   ]
  },
  {
   "cell_type": "code",
   "execution_count": 35,
   "id": "6bd4f866",
   "metadata": {},
   "outputs": [
    {
     "name": "stdout",
     "output_type": "stream",
     "text": [
      "HelloWorld!\n"
     ]
    }
   ],
   "source": [
    "x  = 'Hello'\n",
    "y  = 'World!'\n",
    "c = x + y\n",
    "print(c)"
   ]
  },
  {
   "cell_type": "markdown",
   "id": "b848fb6c",
   "metadata": {},
   "source": [
    "For using the whitespaces between string add **\" \"**.\n",
    "\n",
    "E.g"
   ]
  },
  {
   "cell_type": "code",
   "execution_count": 36,
   "id": "a0180fb2",
   "metadata": {},
   "outputs": [
    {
     "name": "stdout",
     "output_type": "stream",
     "text": [
      "Hello World!\n"
     ]
    }
   ],
   "source": [
    "c = x + \" \" + y\n",
    "print(c)"
   ]
  },
  {
   "cell_type": "markdown",
   "id": "458c5519",
   "metadata": {},
   "source": [
    "### List \n",
    "\n",
    "Python List is a container type for store the value of any datatype in the conatiner. List items are ordered, Changeble and allow duplicates value.\n",
    "##### List are written in square brackets[ ].\n",
    "\n",
    "E.g."
   ]
  },
  {
   "cell_type": "code",
   "execution_count": 37,
   "id": "d5d90490",
   "metadata": {},
   "outputs": [],
   "source": [
    "list1 = ['Hello','Akshat','Mango',10.5,'Banana',10]"
   ]
  },
  {
   "cell_type": "code",
   "execution_count": 130,
   "id": "0cd5498f",
   "metadata": {},
   "outputs": [
    {
     "data": {
      "text/plain": [
       "6"
      ]
     },
     "execution_count": 130,
     "metadata": {},
     "output_type": "execute_result"
    }
   ],
   "source": [
    "len(list1)\n",
    "# we can know the length(no. of elements) with this method."
   ]
  },
  {
   "cell_type": "code",
   "execution_count": 38,
   "id": "ca50f4cb",
   "metadata": {},
   "outputs": [
    {
     "data": {
      "text/plain": [
       "['Hello', 'Akshat', 'Mango', 10.5, 'Banana', 10]"
      ]
     },
     "execution_count": 38,
     "metadata": {},
     "output_type": "execute_result"
    }
   ],
   "source": [
    "list1"
   ]
  },
  {
   "cell_type": "markdown",
   "id": "cff2e594",
   "metadata": {},
   "source": [
    "#### List Indexing\n",
    "List indexing is also same as string indexing. List also have negative indexing same as string.\n",
    "\n",
    "Positive and Negative Indexing of list1 is:-\n",
    "- Hello = [0],       [-6] \n",
    "- Akshat = [1], [-5]\n",
    "- Mango = [2],  [-4]\n",
    "- 10.5 = [3],   [-3]\n",
    "- Banana = [4], [-2]\n",
    "- 10 = [5],     [-1]"
   ]
  },
  {
   "cell_type": "code",
   "execution_count": 39,
   "id": "8262fb7f",
   "metadata": {},
   "outputs": [
    {
     "data": {
      "text/plain": [
       "('Hello', 'Akshat', 'Mango', 10.5, 'Banana', 10)"
      ]
     },
     "execution_count": 39,
     "metadata": {},
     "output_type": "execute_result"
    }
   ],
   "source": [
    "list1[0], list1[1], list1[2], list1[3], list1[4], list1[5]"
   ]
  },
  {
   "cell_type": "code",
   "execution_count": 40,
   "id": "39ba8f52",
   "metadata": {},
   "outputs": [
    {
     "data": {
      "text/plain": [
       "('Hello', 'Akshat', 'Mango', 10.5, 'Banana', 10)"
      ]
     },
     "execution_count": 40,
     "metadata": {},
     "output_type": "execute_result"
    }
   ],
   "source": [
    "list1[-6], list1[-5], list1[-4], list1[-3], list1[-2], list1[-1]"
   ]
  },
  {
   "cell_type": "markdown",
   "id": "7275bfbd",
   "metadata": {},
   "source": [
    "#### List Method\n",
    "\n",
    "l1 = [1,2,8,7,3,9,10,6]"
   ]
  },
  {
   "cell_type": "code",
   "execution_count": 41,
   "id": "6abe1ffb",
   "metadata": {},
   "outputs": [],
   "source": [
    "l1 = [1,2,8,7,3,9,10,6]"
   ]
  },
  {
   "cell_type": "code",
   "execution_count": 42,
   "id": "13ffb598",
   "metadata": {},
   "outputs": [
    {
     "name": "stdout",
     "output_type": "stream",
     "text": [
      "8\n"
     ]
    }
   ],
   "source": [
    "print(len(l1))\n",
    "# with this function we can know the lenth of the list."
   ]
  },
  {
   "cell_type": "code",
   "execution_count": 43,
   "id": "02dba3e1",
   "metadata": {},
   "outputs": [
    {
     "name": "stdout",
     "output_type": "stream",
     "text": [
      "[1, 2, 3, 6, 7, 8, 9, 10]\n"
     ]
    }
   ],
   "source": [
    "l1.sort()\n",
    "print(l1)\n",
    "# this method update the list in a sequance order."
   ]
  },
  {
   "cell_type": "code",
   "execution_count": 44,
   "id": "b4ae1d9e",
   "metadata": {},
   "outputs": [
    {
     "name": "stdout",
     "output_type": "stream",
     "text": [
      "[10, 9, 8, 7, 6, 3, 2, 1]\n"
     ]
    }
   ],
   "source": [
    "l1.reverse()\n",
    "print(l1)\n",
    "# this method the reverse the list."
   ]
  },
  {
   "cell_type": "code",
   "execution_count": 45,
   "id": "c310dfaa",
   "metadata": {},
   "outputs": [
    {
     "name": "stdout",
     "output_type": "stream",
     "text": [
      "[10, 9, 8, 7, 6, 3, 2, 1, 12]\n"
     ]
    }
   ],
   "source": [
    "l1.append(12)\n",
    "print(l1)\n",
    "# this method add the value in the end of the list."
   ]
  },
  {
   "cell_type": "code",
   "execution_count": 46,
   "id": "7c6dcdfe",
   "metadata": {},
   "outputs": [
    {
     "data": {
      "text/plain": [
       "[10, 9, 8, 7, 25, 6, 3, 2, 1, 12]"
      ]
     },
     "execution_count": 46,
     "metadata": {},
     "output_type": "execute_result"
    }
   ],
   "source": [
    "l1.insert(4,25)\n",
    "l1\n",
    "# this method insert the 25 value at the 4th index."
   ]
  },
  {
   "cell_type": "code",
   "execution_count": 47,
   "id": "135e2d84",
   "metadata": {},
   "outputs": [
    {
     "data": {
      "text/plain": [
       "[10, 9, 7, 25, 6, 3, 2, 1, 12]"
      ]
     },
     "execution_count": 47,
     "metadata": {},
     "output_type": "execute_result"
    }
   ],
   "source": [
    "l1.pop(2)\n",
    "l1\n",
    "# this method delete the value from the 2nd index of the list."
   ]
  },
  {
   "cell_type": "code",
   "execution_count": 48,
   "id": "ce801f13",
   "metadata": {},
   "outputs": [
    {
     "data": {
      "text/plain": [
       "[10, 9, 7, 6, 3, 2, 1, 12]"
      ]
     },
     "execution_count": 48,
     "metadata": {},
     "output_type": "execute_result"
    }
   ],
   "source": [
    "l1.remove(25)\n",
    "l1\n",
    "# this method remove the 25 value from the list."
   ]
  },
  {
   "cell_type": "markdown",
   "id": "74f9cc81",
   "metadata": {},
   "source": [
    "#### List Comprehension\n",
    "We can create the new list based on exiting value in the previous list is called **List Comprehension**."
   ]
  },
  {
   "cell_type": "code",
   "execution_count": 49,
   "id": "e05a14ef",
   "metadata": {},
   "outputs": [],
   "source": [
    "previouslist = [\"apple\", \"banana\", \"onion\", \"kiwi\", \"mango\"]"
   ]
  },
  {
   "cell_type": "code",
   "execution_count": 125,
   "id": "ac813a4f",
   "metadata": {},
   "outputs": [
    {
     "data": {
      "text/plain": [
       "list"
      ]
     },
     "execution_count": 125,
     "metadata": {},
     "output_type": "execute_result"
    }
   ],
   "source": [
    "newlist = []\n",
    "# We can also make a empty list like this.\n",
    "type(newlist)"
   ]
  },
  {
   "cell_type": "code",
   "execution_count": 51,
   "id": "9f9e5eba",
   "metadata": {},
   "outputs": [],
   "source": [
    "for x in previouslist:\n",
    "    if \"a\" in x:\n",
    "        newlist.append(x)"
   ]
  },
  {
   "cell_type": "code",
   "execution_count": 52,
   "id": "b16bf62f",
   "metadata": {},
   "outputs": [
    {
     "name": "stdout",
     "output_type": "stream",
     "text": [
      "['apple', 'banana', 'mango']\n"
     ]
    }
   ],
   "source": [
    "print(newlist)\n",
    "# a is available in three name in the list."
   ]
  },
  {
   "cell_type": "code",
   "execution_count": 53,
   "id": "820fcc1f",
   "metadata": {},
   "outputs": [],
   "source": [
    "newlist1 = [y for y in previouslist if \"i\" in y]\n",
    "# we can also create the new list by this method."
   ]
  },
  {
   "cell_type": "code",
   "execution_count": 54,
   "id": "16e4438c",
   "metadata": {},
   "outputs": [
    {
     "name": "stdout",
     "output_type": "stream",
     "text": [
      "['onion', 'kiwi']\n"
     ]
    }
   ],
   "source": [
    "print(newlist1)"
   ]
  },
  {
   "cell_type": "code",
   "execution_count": 55,
   "id": "6c6f8dc8",
   "metadata": {},
   "outputs": [
    {
     "name": "stdout",
     "output_type": "stream",
     "text": [
      "[0, 1, 2, 3, 4, 5, 6, 7, 8, 9, 10, 11, 12, 13, 14, 15, 16, 17, 18, 19]\n"
     ]
    }
   ],
   "source": [
    "no_list = [x for x in range(20)]\n",
    "print(no_list)\n",
    "# make a list from 0 to 19 because in the indexing first value is including and last value excluded. "
   ]
  },
  {
   "cell_type": "markdown",
   "id": "001608f4",
   "metadata": {},
   "source": [
    "### Tuples\n",
    "Tuple is a collection which is orderd and **unchangeble**. A Tuple is **immutable** datatype in python, means we can not update the tuple.\n",
    "\n",
    "Tuple items are **ordered**, **unchangeable**, and allow the **duplicate** values.\n",
    "\n",
    "Once defined a tuple\n",
    "##### Tuples are written in round brackets( ).\n"
   ]
  },
  {
   "cell_type": "code",
   "execution_count": 56,
   "id": "a9b1ef63",
   "metadata": {},
   "outputs": [],
   "source": [
    "my_tuple = ('Hello','Akshat','Mango',10.5,'Banana',10,'Mango')"
   ]
  },
  {
   "cell_type": "code",
   "execution_count": 131,
   "id": "3aef1fc2",
   "metadata": {},
   "outputs": [
    {
     "data": {
      "text/plain": [
       "7"
      ]
     },
     "execution_count": 131,
     "metadata": {},
     "output_type": "execute_result"
    }
   ],
   "source": [
    "len(my_tuple)\n",
    "# we can know the length(no. of elements) with this method."
   ]
  },
  {
   "cell_type": "code",
   "execution_count": 57,
   "id": "343e4f1f",
   "metadata": {},
   "outputs": [
    {
     "name": "stdout",
     "output_type": "stream",
     "text": [
      "('Hello', 'Akshat', 'Mango', 10.5, 'Banana', 10, 'Mango')\n"
     ]
    }
   ],
   "source": [
    "print(my_tuple)"
   ]
  },
  {
   "cell_type": "markdown",
   "id": "f4c6a04c",
   "metadata": {},
   "source": [
    "Tuple also have indexing same as string or list.\n",
    "\n",
    "we can access the tuple by reffering the index number."
   ]
  },
  {
   "cell_type": "code",
   "execution_count": 58,
   "id": "52dc5afd",
   "metadata": {},
   "outputs": [
    {
     "data": {
      "text/plain": [
       "'Akshat'"
      ]
     },
     "execution_count": 58,
     "metadata": {},
     "output_type": "execute_result"
    }
   ],
   "source": [
    "my_tuple[1]\n",
    "# There is Akshat at 1 index."
   ]
  },
  {
   "cell_type": "code",
   "execution_count": 59,
   "id": "efa6cd4e",
   "metadata": {},
   "outputs": [
    {
     "data": {
      "text/plain": [
       "10"
      ]
     },
     "execution_count": 59,
     "metadata": {},
     "output_type": "execute_result"
    }
   ],
   "source": [
    "my_tuple[5]\n",
    "# There is 10 at 5 index."
   ]
  },
  {
   "cell_type": "code",
   "execution_count": 60,
   "id": "ba812cbd",
   "metadata": {},
   "outputs": [
    {
     "data": {
      "text/plain": [
       "'Mango'"
      ]
     },
     "execution_count": 60,
     "metadata": {},
     "output_type": "execute_result"
    }
   ],
   "source": [
    "my_tuple[-5]\n",
    "# There is Mango at -5 index."
   ]
  },
  {
   "cell_type": "markdown",
   "id": "45717eb8",
   "metadata": {},
   "source": [
    "#### Tuple Methods\n",
    "Tuple has two built-in methods."
   ]
  },
  {
   "cell_type": "code",
   "execution_count": 61,
   "id": "e3e07998",
   "metadata": {},
   "outputs": [],
   "source": [
    "Number = (1,2,3,2,7,9,7,2,4,5,2)"
   ]
  },
  {
   "cell_type": "code",
   "execution_count": 62,
   "id": "c8460035",
   "metadata": {},
   "outputs": [
    {
     "name": "stdout",
     "output_type": "stream",
     "text": [
      "(1, 2, 3, 2, 7, 9, 7, 2, 4, 5, 2)\n"
     ]
    }
   ],
   "source": [
    "print(Number)"
   ]
  },
  {
   "cell_type": "code",
   "execution_count": 63,
   "id": "641b8e67",
   "metadata": {},
   "outputs": [
    {
     "data": {
      "text/plain": [
       "4"
      ]
     },
     "execution_count": 63,
     "metadata": {},
     "output_type": "execute_result"
    }
   ],
   "source": [
    "Number.count(2)\n",
    "# 2 is 4 times in this tuple."
   ]
  },
  {
   "cell_type": "code",
   "execution_count": 64,
   "id": "94afc421",
   "metadata": {},
   "outputs": [
    {
     "data": {
      "text/plain": [
       "2"
      ]
     },
     "execution_count": 64,
     "metadata": {},
     "output_type": "execute_result"
    }
   ],
   "source": [
    "Number.count(7)\n",
    "# 7 is two times in this tuple."
   ]
  },
  {
   "cell_type": "code",
   "execution_count": 65,
   "id": "93416bd8",
   "metadata": {},
   "outputs": [
    {
     "data": {
      "text/plain": [
       "9"
      ]
     },
     "execution_count": 65,
     "metadata": {},
     "output_type": "execute_result"
    }
   ],
   "source": [
    "Number.index(5)\n",
    "# this return the value mentioned index."
   ]
  },
  {
   "cell_type": "code",
   "execution_count": 66,
   "id": "49eb265e",
   "metadata": {},
   "outputs": [
    {
     "data": {
      "text/plain": [
       "4"
      ]
     },
     "execution_count": 66,
     "metadata": {},
     "output_type": "execute_result"
    }
   ],
   "source": [
    "Number.index(7)\n",
    "# this return the value mentioned index"
   ]
  },
  {
   "cell_type": "code",
   "execution_count": 127,
   "id": "8900aaeb",
   "metadata": {},
   "outputs": [
    {
     "data": {
      "text/plain": [
       "tuple"
      ]
     },
     "execution_count": 127,
     "metadata": {},
     "output_type": "execute_result"
    }
   ],
   "source": [
    "new_tuple = ()\n",
    "# We can also make a empty tuple like this.\n",
    "type(new_tuple)"
   ]
  },
  {
   "cell_type": "markdown",
   "id": "74c17b35",
   "metadata": {},
   "source": [
    "### Dictionaries\n",
    "\n",
    "Dictionaries are used to store data value in Key Value pair.\n",
    "- A Dictionary is a collection which is ordered, changeble, indexed and do not allow duplicates.\n",
    "- Dictionary are written with Curly Brackets { }."
   ]
  },
  {
   "cell_type": "code",
   "execution_count": 133,
   "id": "305cc316",
   "metadata": {},
   "outputs": [],
   "source": [
    "my_dict = {\"name\":\"Akshat\",\"Surname\":\"Saini\",\"Age\":30,\"year\":2022}"
   ]
  },
  {
   "cell_type": "code",
   "execution_count": 134,
   "id": "ac0d4b39",
   "metadata": {},
   "outputs": [
    {
     "data": {
      "text/plain": [
       "4"
      ]
     },
     "execution_count": 134,
     "metadata": {},
     "output_type": "execute_result"
    }
   ],
   "source": [
    "len(my_dict)\n",
    "# we can know the length(no. of elements) with this method."
   ]
  },
  {
   "cell_type": "code",
   "execution_count": 68,
   "id": "df8a24a1",
   "metadata": {},
   "outputs": [
    {
     "name": "stdout",
     "output_type": "stream",
     "text": [
      "{'name': 'Akshat', 'Surname': 'Saini', 'Age': 30, 'year': 2022}\n"
     ]
    }
   ],
   "source": [
    "print(my_dict)\n",
    "# This is a dictonary with key value pair."
   ]
  },
  {
   "cell_type": "code",
   "execution_count": 69,
   "id": "079ce393",
   "metadata": {},
   "outputs": [
    {
     "data": {
      "text/plain": [
       "dict_items([('name', 'Akshat'), ('Surname', 'Saini'), ('Age', 30), ('year', 2022)])"
      ]
     },
     "execution_count": 69,
     "metadata": {},
     "output_type": "execute_result"
    }
   ],
   "source": [
    "my_dict.items()\n",
    "# return a list with key and value(tuple)"
   ]
  },
  {
   "cell_type": "code",
   "execution_count": 70,
   "id": "5e41ef80",
   "metadata": {},
   "outputs": [
    {
     "data": {
      "text/plain": [
       "dict_keys(['name', 'Surname', 'Age', 'year'])"
      ]
     },
     "execution_count": 70,
     "metadata": {},
     "output_type": "execute_result"
    }
   ],
   "source": [
    "my_dict.keys()\n",
    "# return the list of key."
   ]
  },
  {
   "cell_type": "code",
   "execution_count": 71,
   "id": "f0f74b80",
   "metadata": {},
   "outputs": [
    {
     "data": {
      "text/plain": [
       "{'name': 'Akshat',\n",
       " 'Surname': 'Saini',\n",
       " 'Age': 30,\n",
       " 'year': 2022,\n",
       " 'FruitName': 'Apple'}"
      ]
     },
     "execution_count": 71,
     "metadata": {},
     "output_type": "execute_result"
    }
   ],
   "source": [
    "my_dict.update({\"FruitName\":\"Apple\"})\n",
    "my_dict\n",
    "# update the list with new key values."
   ]
  },
  {
   "cell_type": "code",
   "execution_count": 72,
   "id": "688ef41d",
   "metadata": {},
   "outputs": [
    {
     "data": {
      "text/plain": [
       "'Akshat'"
      ]
     },
     "execution_count": 72,
     "metadata": {},
     "output_type": "execute_result"
    }
   ],
   "source": [
    "my_dict.get(\"name\")\n",
    "# return outout with specified key"
   ]
  },
  {
   "cell_type": "code",
   "execution_count": 128,
   "id": "3aba19c8",
   "metadata": {},
   "outputs": [
    {
     "data": {
      "text/plain": [
       "dict"
      ]
     },
     "execution_count": 128,
     "metadata": {},
     "output_type": "execute_result"
    }
   ],
   "source": [
    "new_dict = {}\n",
    "# We can also make a empty Dictionary like this.\n",
    "type(new_dict)"
   ]
  },
  {
   "cell_type": "markdown",
   "id": "8ca9790d",
   "metadata": {},
   "source": [
    "###### Note:- More methods are also available in Dictionary."
   ]
  },
  {
   "cell_type": "markdown",
   "id": "92c9e800",
   "metadata": {},
   "source": [
    "### Set\n",
    "Set is a collection of non re-peatitve elements,all elements will Unique.\n",
    "- Set are also written with Curly Brackets { }.\n",
    "- Set items are unordered, unchangeable, and do not allow duplicate values.\n",
    "##### Note: items in sets are unchangeable, but we can remove items and add new items."
   ]
  },
  {
   "cell_type": "code",
   "execution_count": 84,
   "id": "4afe5141",
   "metadata": {},
   "outputs": [
    {
     "name": "stdout",
     "output_type": "stream",
     "text": [
      "{'banana', 'apple', 'cherry'}\n"
     ]
    }
   ],
   "source": [
    "my_set1 = {\"banana\", \"cherry\", \"apple\"}\n",
    "print(my_set)\n",
    "# return all values of the set."
   ]
  },
  {
   "cell_type": "code",
   "execution_count": 86,
   "id": "a93b4baa",
   "metadata": {},
   "outputs": [
    {
     "name": "stdout",
     "output_type": "stream",
     "text": [
      "{'banana', 'apple', 'cherry'}\n"
     ]
    }
   ],
   "source": [
    "my_set2= {\"banana\", \"cherry\", \"apple\",\"cherry\",\"apple\"}\n",
    "len(my_set)\n",
    "print(my_set)\n",
    "# return only unique values."
   ]
  },
  {
   "cell_type": "code",
   "execution_count": 89,
   "id": "b51000c9",
   "metadata": {},
   "outputs": [
    {
     "data": {
      "text/plain": [
       "3"
      ]
     },
     "execution_count": 89,
     "metadata": {},
     "output_type": "execute_result"
    }
   ],
   "source": [
    "len(my_set1)\n",
    "# return lenth of the set and here only 3 elements in set1."
   ]
  },
  {
   "cell_type": "code",
   "execution_count": 91,
   "id": "2575fde0",
   "metadata": {},
   "outputs": [
    {
     "data": {
      "text/plain": [
       "3"
      ]
     },
     "execution_count": 91,
     "metadata": {},
     "output_type": "execute_result"
    }
   ],
   "source": [
    "len(my_set2)\n",
    "# there are 5 elements in set2, but return only unique elements."
   ]
  },
  {
   "cell_type": "code",
   "execution_count": 144,
   "id": "7840b62a",
   "metadata": {},
   "outputs": [
    {
     "name": "stdout",
     "output_type": "stream",
     "text": [
      "{1, 2, 6, 'Hello', 8, 9}\n"
     ]
    }
   ],
   "source": [
    "new_set = {1,8,6,9,2,\"Hello\"}\n",
    "print(new_set)"
   ]
  },
  {
   "cell_type": "code",
   "execution_count": 146,
   "id": "e247da4f",
   "metadata": {},
   "outputs": [
    {
     "name": "stdout",
     "output_type": "stream",
     "text": [
      "{1, 2, 'orange', 6, 'Hello', 8, 9}\n"
     ]
    }
   ],
   "source": [
    "new_set.add(\"orange\")\n",
    "print(new_set)\n",
    "# this method add element in a set."
   ]
  },
  {
   "cell_type": "code",
   "execution_count": 110,
   "id": "cd3bef45",
   "metadata": {},
   "outputs": [
    {
     "data": {
      "text/plain": [
       "{1, 2, 6, 8, 'Hello'}"
      ]
     },
     "execution_count": 110,
     "metadata": {},
     "output_type": "execute_result"
    }
   ],
   "source": [
    "new_set.remove(9)\n",
    "new_set\n",
    "# remove 9 from the set and update the set."
   ]
  },
  {
   "cell_type": "code",
   "execution_count": 113,
   "id": "48e5f3a4",
   "metadata": {},
   "outputs": [
    {
     "data": {
      "text/plain": [
       "set()"
      ]
     },
     "execution_count": 113,
     "metadata": {},
     "output_type": "execute_result"
    }
   ],
   "source": [
    "new_set.clear()\n",
    "new_set\n",
    "# remove all the elements from set and return empty set."
   ]
  },
  {
   "cell_type": "code",
   "execution_count": 135,
   "id": "c537bb34",
   "metadata": {},
   "outputs": [
    {
     "data": {
      "text/plain": [
       "set"
      ]
     },
     "execution_count": 135,
     "metadata": {},
     "output_type": "execute_result"
    }
   ],
   "source": [
    "new_set = set()\n",
    "# We can also make a empty Set like this.\n",
    "type(new_set)"
   ]
  },
  {
   "cell_type": "code",
   "execution_count": 138,
   "id": "807c0fc5",
   "metadata": {},
   "outputs": [],
   "source": [
    "new_Set1 = {}\n",
    "# we can not write empty set with curly brackets, because this only return Dictionary."
   ]
  },
  {
   "cell_type": "markdown",
   "id": "0faa4fa9",
   "metadata": {},
   "source": [
    "#### Join Two Sets\n"
   ]
  },
  {
   "cell_type": "code",
   "execution_count": 115,
   "id": "8fc37389",
   "metadata": {},
   "outputs": [],
   "source": [
    "a = {\"x\",\"y\",\"z\"}"
   ]
  },
  {
   "cell_type": "code",
   "execution_count": 119,
   "id": "a2db37bf",
   "metadata": {},
   "outputs": [],
   "source": [
    "b = {1,2,3,4,}"
   ]
  },
  {
   "cell_type": "code",
   "execution_count": 120,
   "id": "ef5d94a3",
   "metadata": {},
   "outputs": [],
   "source": [
    "c = a.union(b)"
   ]
  },
  {
   "cell_type": "code",
   "execution_count": 129,
   "id": "47d24319",
   "metadata": {},
   "outputs": [
    {
     "name": "stdout",
     "output_type": "stream",
     "text": [
      "{'x', 1, 2, 3, 4, 'y', 'z'}\n"
     ]
    }
   ],
   "source": [
    "print(c)\n",
    "# this method returns a new set(join) with all items from both sets."
   ]
  },
  {
   "cell_type": "code",
   "execution_count": 139,
   "id": "26867215",
   "metadata": {},
   "outputs": [],
   "source": [
    "z = {\"apple\",\"banana\",\"cherry\"}"
   ]
  },
  {
   "cell_type": "code",
   "execution_count": 140,
   "id": "ac11b087",
   "metadata": {},
   "outputs": [],
   "source": [
    "y = {\"Facebook\",\"Instagram\",\"apple\"}"
   ]
  },
  {
   "cell_type": "code",
   "execution_count": 143,
   "id": "4a4f6a3f",
   "metadata": {},
   "outputs": [
    {
     "name": "stdout",
     "output_type": "stream",
     "text": [
      "{'apple'}\n"
     ]
    }
   ],
   "source": [
    "x = z.intersection(y)\n",
    "print(x)\n",
    "# this method return common elemnets from the both sets."
   ]
  },
  {
   "cell_type": "markdown",
   "id": "765b7be7",
   "metadata": {},
   "source": [
    "### Conditional Expression\n",
    "An additional decision making entity is called as Conditional Expression.\n",
    "Usually python supports logical conditions from Mathematics.\n",
    "- Equals: a == b\n",
    "- Not Equals: a != b\n",
    "- Less than: a < b\n",
    "- Less than or equal to: a <= b\n",
    "- Greater than: a > b\n",
    "- Greater than or equal to: a >= b\n",
    "\n",
    "A conditional statement is written using **if** keyword.\n",
    "\n",
    "\n",
    "E.g."
   ]
  },
  {
   "cell_type": "code",
   "execution_count": 155,
   "id": "bb8d3b2a",
   "metadata": {},
   "outputs": [
    {
     "ename": "IndentationError",
     "evalue": "expected an indented block (360172341.py, line 4)",
     "output_type": "error",
     "traceback": [
      "\u001b[1;36m  Input \u001b[1;32mIn [155]\u001b[1;36m\u001b[0m\n\u001b[1;33m    print(\"b is greater than a\")\u001b[0m\n\u001b[1;37m    ^\u001b[0m\n\u001b[1;31mIndentationError\u001b[0m\u001b[1;31m:\u001b[0m expected an indented block\n"
     ]
    }
   ],
   "source": [
    "a = 8\n",
    "b = 16\n",
    "if b > a:\n",
    "print(\"b is greater than a\")\n",
    "# expected an indented block :- use indentation after a condition."
   ]
  },
  {
   "cell_type": "markdown",
   "id": "4f7aeaa4",
   "metadata": {},
   "source": [
    "###### Note:- Indentation is just 4 spaces, which is written after a condition.\n",
    "\n",
    "See below E.g."
   ]
  },
  {
   "cell_type": "code",
   "execution_count": 156,
   "id": "69e202e1",
   "metadata": {},
   "outputs": [
    {
     "name": "stdout",
     "output_type": "stream",
     "text": [
      "b is greater than a\n"
     ]
    }
   ],
   "source": [
    "a = 8\n",
    "b = 16\n",
    "if b > a:\n",
    "    print(\"b is greater than a\")\n",
    "# because 16 is always greater than 8, so it will print b is greater than a."
   ]
  },
  {
   "cell_type": "code",
   "execution_count": 157,
   "id": "e4ed0d0b",
   "metadata": {},
   "outputs": [
    {
     "name": "stdout",
     "output_type": "stream",
     "text": [
      "a is not greater than b\n"
     ]
    }
   ],
   "source": [
    "a = 25\n",
    "b = 5\n",
    "if a < b:\n",
    "    print(\"b is greater than a\")       # when Condition is true it will print this.\n",
    "else:\n",
    "    print(\"a is not greater than b\")   # when Condition is not true it will print this.\n",
    "# Here we used else for another condition. "
   ]
  },
  {
   "cell_type": "markdown",
   "id": "876de156",
   "metadata": {},
   "source": [
    "We use **elif** condition **if** the first condition is not true."
   ]
  },
  {
   "cell_type": "code",
   "execution_count": 158,
   "id": "186b8781",
   "metadata": {},
   "outputs": [
    {
     "name": "stdout",
     "output_type": "stream",
     "text": [
      "Enter a Number: 18\n",
      "Akshat is equal to Gaurav\n"
     ]
    }
   ],
   "source": [
    "# Now we will take a integer input from a user to test condition 1st.\n",
    "\n",
    "Akshat = int(input(\"Enter a Number: \"))\n",
    "Gaurav = 18\n",
    "if Akshat > Gaurav:\n",
    "    print(\"Akshat is greater than Gaurav\")\n",
    "elif Akshat==Gaurav:\n",
    "    print(\"Akshat is equal to Gaurav\")\n",
    "else:\n",
    "    print(\"Akshat is not Greater than Gaurav\")"
   ]
  },
  {
   "cell_type": "code",
   "execution_count": 159,
   "id": "1d19a815",
   "metadata": {},
   "outputs": [
    {
     "name": "stdout",
     "output_type": "stream",
     "text": [
      "Enter a Number: 24\n",
      "Akshat is greater than Gaurav\n"
     ]
    }
   ],
   "source": [
    "# Now we will take a integer input from a user to test condition 2nd.\n",
    "Akshat = int(input(\"Enter a Number: \"))\n",
    "Gaurav = 18\n",
    "if Akshat > Gaurav:\n",
    "    print(\"Akshat is greater than Gaurav\")\n",
    "elif Akshat==Gaurav:\n",
    "    print(\"Akshat is equal to Gaurav\")\n",
    "else:\n",
    "    print(\"Akshat is not Greater than Gaurav\")"
   ]
  },
  {
   "cell_type": "code",
   "execution_count": 161,
   "id": "854fdf7b",
   "metadata": {},
   "outputs": [
    {
     "name": "stdout",
     "output_type": "stream",
     "text": [
      "Enter a Number: 4\n",
      "Akshat is not Greater than Gaurav\n"
     ]
    }
   ],
   "source": [
    "# Now we will take a integer input from a user to test condition 3rd.\n",
    "Akshat = int(input(\"Enter a Number: \"))\n",
    "Gaurav = 18\n",
    "if Akshat > Gaurav:\n",
    "    print(\"Akshat is greater than Gaurav\")\n",
    "elif Akshat == Gaurav:\n",
    "    print(\"Akshat is equal to Gaurav\")\n",
    "else:\n",
    "    print(\"Akshat is not Greater than Gaurav\")"
   ]
  },
  {
   "cell_type": "markdown",
   "id": "c4e4078a",
   "metadata": {},
   "source": [
    "##### Note:\n",
    "- we can use **elif** any number of times in a code.\n",
    "- **else** condition is executed only if all the condition getting fail in code."
   ]
  },
  {
   "cell_type": "markdown",
   "id": "fd3ef208",
   "metadata": {},
   "source": [
    "##### Logical Operators as Conditional Expression.\n",
    "\n",
    "we have three logical operators in Python.\n",
    "- and\n",
    "- or\n",
    "- not\n",
    "\n",
    "Let's see example of these operators."
   ]
  },
  {
   "cell_type": "code",
   "execution_count": 2,
   "id": "054a50f3",
   "metadata": {},
   "outputs": [
    {
     "name": "stdout",
     "output_type": "stream",
     "text": [
      "Yes, This condition is True!\n"
     ]
    }
   ],
   "source": [
    "# test if a is greater than b, AND if c is greater than a\n",
    "a = 200\n",
    "b = 100\n",
    "c = 300\n",
    "if a > b and c > a:\n",
    "    print(\"Yes, This condition is True!\")\n",
    "# both conditions are true here."
   ]
  },
  {
   "cell_type": "code",
   "execution_count": 5,
   "id": "fab57549",
   "metadata": {},
   "outputs": [
    {
     "name": "stdout",
     "output_type": "stream",
     "text": [
      "Yes, Only first condition will true!\n"
     ]
    }
   ],
   "source": [
    "# test if a is greater than b, OR if a is greater than c\n",
    "a = 200\n",
    "b = 100\n",
    "c = 300\n",
    "if a > b or a > c:\n",
    "    print(\"Yes, Only first condition will true!\")\n",
    "# Here, atleast only one conditon should be true."
   ]
  },
  {
   "cell_type": "code",
   "execution_count": 21,
   "id": "102aaa77",
   "metadata": {},
   "outputs": [
    {
     "name": "stdout",
     "output_type": "stream",
     "text": [
      "200 is not less than a\n"
     ]
    }
   ],
   "source": [
    "a = 100\n",
    "if not 200 < a:\n",
    "    print(\"200 is not less than a\")\n",
    "# because 200 is greater than a, so this condition will true."
   ]
  },
  {
   "cell_type": "code",
   "execution_count": null,
   "id": "b8abe41a",
   "metadata": {},
   "outputs": [],
   "source": []
  },
  {
   "cell_type": "code",
   "execution_count": null,
   "id": "a075a2ee",
   "metadata": {},
   "outputs": [],
   "source": []
  }
 ],
 "metadata": {
  "kernelspec": {
   "display_name": "Python 3 (ipykernel)",
   "language": "python",
   "name": "python3"
  },
  "language_info": {
   "codemirror_mode": {
    "name": "ipython",
    "version": 3
   },
   "file_extension": ".py",
   "mimetype": "text/x-python",
   "name": "python",
   "nbconvert_exporter": "python",
   "pygments_lexer": "ipython3",
   "version": "3.9.12"
  }
 },
 "nbformat": 4,
 "nbformat_minor": 5
}
