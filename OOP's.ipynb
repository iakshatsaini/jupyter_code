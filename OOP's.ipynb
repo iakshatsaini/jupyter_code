{
 "cells": [
  {
   "cell_type": "code",
   "execution_count": 1,
   "id": "bc36a3fd",
   "metadata": {},
   "outputs": [
    {
     "data": {
      "text/plain": [
       "'Blue and Circle'"
      ]
     },
     "execution_count": 1,
     "metadata": {},
     "output_type": "execute_result"
    }
   ],
   "source": [
    "class phone():\n",
    "    def set_colour(self,color, shape):   # these are the attributes of methods not class\n",
    "        self.shape = shape\n",
    "        self.color = color\n",
    "        return self.color + ' and ' + self.shape\n",
    "P1 = phone()\n",
    "P1.set_colour(\"Blue\", 'Circle')"
   ]
  },
  {
   "cell_type": "code",
   "execution_count": 2,
   "id": "3454b4db",
   "metadata": {},
   "outputs": [
    {
     "name": "stdout",
     "output_type": "stream",
     "text": [
      "Akshat has this salary Rs. 25986 and working in Google\n"
     ]
    }
   ],
   "source": [
    "class Employee():   # creating the employee class\n",
    "    def __init__(self,name,salary,company):  # init methods acts as a constructor and it assign the attributes to a class\n",
    "        self.name = name\n",
    "        self.salary = salary\n",
    "        self.company = company\n",
    "    def details(self):\n",
    "        print(f\"{self.name} has this salary Rs. {self.salary} and working in {self.company}\")\n",
    "          \n",
    "\n",
    "E1 = Employee('Akshat', 25986, 'Google')   # E1 is instance of the class\n",
    "# print(E1.name)\n",
    "# print(E1.salary)\n",
    "# print(E1.company)\n",
    "E1.details() # invoking methods thrugh object"
   ]
  },
  {
   "cell_type": "code",
   "execution_count": 3,
   "id": "f260f487",
   "metadata": {},
   "outputs": [
    {
     "data": {
      "text/plain": [
       "True"
      ]
     },
     "execution_count": 3,
     "metadata": {},
     "output_type": "execute_result"
    }
   ],
   "source": [
    "isinstance(E1, Employee)   # this method for checking the instance of the class."
   ]
  },
  {
   "cell_type": "code",
   "execution_count": 4,
   "id": "cf20f38a",
   "metadata": {},
   "outputs": [
    {
     "data": {
      "text/plain": [
       "10"
      ]
     },
     "execution_count": 4,
     "metadata": {},
     "output_type": "execute_result"
    }
   ],
   "source": [
    "class area():\n",
    "    def __init__(self,radius):\n",
    "        self.radius = radius\n",
    "    def evluate(self):\n",
    "        return 2 * self.radius\n",
    "a1 = area(5)\n",
    "a1.evluate()"
   ]
  },
  {
   "cell_type": "code",
   "execution_count": 1,
   "id": "24a4a892",
   "metadata": {},
   "outputs": [
    {
     "name": "stdout",
     "output_type": "stream",
     "text": [
      "I am a car\n",
      "mileage of vehicle is 22 km/l and cost is 650000 \n"
     ]
    }
   ],
   "source": [
    "# with inheritance one class can drive the properties of the other class.\n",
    "# example: child inheriting features from father.\n",
    "\n",
    "# single inheritance\n",
    "\n",
    "# parent class\n",
    "class vehicle():\n",
    "    def __init__(self,mileage,cost):\n",
    "        self.mileage = mileage\n",
    "        self.cost = cost\n",
    "    def show_details(self):\n",
    "        print(f\"mileage of vehicle is {self.mileage} km/l and cost is {self.cost} \")\n",
    "v1 = vehicle(45, 93000)\n",
    "# v1.show_details()\n",
    "\n",
    "# child class\n",
    "class car(vehicle):    # inherit the vehicle class in car class for using the vehicle class methods \n",
    "    def show_car(self):\n",
    "        print(\"I am a car\")\n",
    "c1 = car(22, 650000)\n",
    "c1.show_car()      # invoking child class methods\n",
    "c1.show_details()  # invoking parent class methods\n"
   ]
  },
  {
   "cell_type": "code",
   "execution_count": 6,
   "id": "66892ea3",
   "metadata": {},
   "outputs": [
    {
     "name": "stdout",
     "output_type": "stream",
     "text": [
      "mileage of vehicle is 22 km/l and cost is 650000 \n",
      "has 4 tyres and horse power is 1400\n"
     ]
    }
   ],
   "source": [
    "# Over riding init method\n",
    "\n",
    "class car(vehicle):\n",
    "    def __init__(self,mileage,cost,tyres,hp):\n",
    "        super().__init__(mileage,cost)\n",
    "        self.tyres = tyres\n",
    "        self.hp = hp\n",
    "    def show_car_details(self):\n",
    "        print(f\"has {self.tyres} tyres and horse power is {self.hp}\")\n",
    "c2 = car(22, 650000, 4, 1400)\n",
    "c2.show_details()\n",
    "c2.show_car_details()\n",
    " "
   ]
  },
  {
   "cell_type": "code",
   "execution_count": 7,
   "id": "50481b37",
   "metadata": {},
   "outputs": [
    {
     "name": "stdout",
     "output_type": "stream",
     "text": [
      "A\n",
      "B\n",
      "C\n"
     ]
    }
   ],
   "source": [
    "# multiple inheritance\n",
    "\n",
    "# in this the child class inheritis more than 1 parent class.\n",
    "\n",
    "\n",
    "class parent1():\n",
    "    def string_one(self,str1):\n",
    "        self.str1 = str1\n",
    "        return self.str1\n",
    "    \n",
    "class parent2():\n",
    "    def string_two(self,str2):\n",
    "        self.str2 = str2\n",
    "        return self.str2\n",
    "\n",
    "class child(parent1,parent2):\n",
    "    def string_three(self,str3):\n",
    "        self.str3 = str3\n",
    "        return self.str3\n",
    "    \n",
    "d1 = child()\n",
    "print(d1.string_one(\"A\"))\n",
    "print(d1.string_two(\"B\"))\n",
    "print(d1.string_three(\"C\"))\n",
    "\n",
    "   "
   ]
  },
  {
   "cell_type": "code",
   "execution_count": 10,
   "id": "ac9a01fa",
   "metadata": {},
   "outputs": [
    {
     "name": "stdout",
     "output_type": "stream",
     "text": [
      "Raju\n",
      "23\n",
      "Male\n"
     ]
    }
   ],
   "source": [
    "# multi-level inheritance\n",
    "\n",
    "# we have grand parent, parent and child class relationship\n",
    "\n",
    "class grand_parent():\n",
    "    def show_name(self, name):\n",
    "        self.name = name\n",
    "        return self.name\n",
    "    \n",
    "class parent(grand_parent):\n",
    "    def show_age(self, age):\n",
    "        self.age = age\n",
    "        return self.age\n",
    "\n",
    "class child(parent):\n",
    "    def show_gender(self, gender):\n",
    "        self.gender = gender\n",
    "        return self.gender\n",
    "    \n",
    "g1 = child()\n",
    "\n",
    "print(g1.show_name(\"Raju\"))\n",
    "print(g1.show_age(23))\n",
    "print(g1.show_gender(\"Male\"))"
   ]
  },
  {
   "cell_type": "code",
   "execution_count": 13,
   "id": "4bac11e6",
   "metadata": {},
   "outputs": [],
   "source": [
    "# Polymorphism \n",
    "\n",
    "# ‘Polymorphism’ = same function(method) name with different functionalities for different classes\n",
    "\n",
    "\n",
    "class Book():\n",
    "    def __init__(self, name, pages):\n",
    "        self.name = name\n",
    "        self.pages = pages\n",
    "    def show(self):\n",
    "        print(f\"this is a book of {self.name} and has {self.pages} pages\")\n",
    "my_book = Book('Half Girlfriend',200)\n",
    "\n",
    "\n",
    "class Movie():\n",
    "    def __init__(self, name, duration):\n",
    "        self.name = name\n",
    "        self.duration = duration\n",
    "    def show(self):\n",
    "        print(f\"this is a {self.name} movie of {self.duration} hours duration\")\n",
    "my_Movie = Movie(\"Qismat\",2)"
   ]
  },
  {
   "cell_type": "code",
   "execution_count": 14,
   "id": "14a3043b",
   "metadata": {},
   "outputs": [
    {
     "name": "stdout",
     "output_type": "stream",
     "text": [
      "this is a book of Half Girlfriend and has 200 pages\n"
     ]
    }
   ],
   "source": [
    "my_book.show()"
   ]
  },
  {
   "cell_type": "code",
   "execution_count": 15,
   "id": "90816e65",
   "metadata": {},
   "outputs": [
    {
     "name": "stdout",
     "output_type": "stream",
     "text": [
      "this is a Qismat movie of 2 hours duration\n"
     ]
    }
   ],
   "source": [
    "my_Movie.show()"
   ]
  },
  {
   "cell_type": "code",
   "execution_count": null,
   "id": "3f257165",
   "metadata": {},
   "outputs": [],
   "source": []
  }
 ],
 "metadata": {
  "kernelspec": {
   "display_name": "Python 3 (ipykernel)",
   "language": "python",
   "name": "python3"
  },
  "language_info": {
   "codemirror_mode": {
    "name": "ipython",
    "version": 3
   },
   "file_extension": ".py",
   "mimetype": "text/x-python",
   "name": "python",
   "nbconvert_exporter": "python",
   "pygments_lexer": "ipython3",
   "version": "3.9.12"
  }
 },
 "nbformat": 4,
 "nbformat_minor": 5
}
